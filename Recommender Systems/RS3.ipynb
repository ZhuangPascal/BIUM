{
 "cells": [
  {
   "cell_type": "markdown",
   "metadata": {},
   "source": [
    "**Etudiants :** <br/>\n",
    "3701123 - Pascal Zhuang<br/>\n",
    "3416447 - Mohand BENCHABANE"
   ]
  },
  {
   "cell_type": "markdown",
   "metadata": {},
   "source": [
    "# Recommenders 3 -- Sequence Recommenders (45m) \n",
    "\n",
    "## Goals of this practical:\n",
    "\n",
    "- Understand the sequence recommendation framework (~5min)\n",
    "- Load/Format dataset (~5min)\n",
    "- Understand/train the prod2vec model (~10min)\n",
    "- Evaluate (~10min)\n",
    "- Visualize (~10min)\n",
    "- Fiddle (~5min)\n",
    "\n"
   ]
  },
  {
   "cell_type": "code",
   "execution_count": 10,
   "metadata": {},
   "outputs": [],
   "source": [
    "#! pip install gensim --upgrade"
   ]
  },
  {
   "cell_type": "code",
   "execution_count": 11,
   "metadata": {},
   "outputs": [],
   "source": [
    "import pandas as pd\n",
    "import numpy as np"
   ]
  },
  {
   "cell_type": "markdown",
   "metadata": {},
   "source": [
    "# Sequence Recommenders:\n",
    "\n",
    "> What will you click next ?\n",
    "\n",
    "The sequence recommendation setting is a particular case of the implicit collaborative filtering setting. Given a sequence of items $i_0,i_1,...,i_n$ the goal is to predict the $i_{(n+1)},...$ items the user will consume. Playlist continuation is a neat use case of sequence recommenders. You've been listening to those songs, what can you listen to now ?\n",
    "\n",
    "\n",
    "This setting differs from the classical collaborative filtering because the history is the recent trace and not the full saved interactions. Also, it's possible to do sequence recommendation without any specific latent user profile. \n",
    "\n",
    "#### Here we propose to explore this unpersonalized sequence recommandation"
   ]
  },
  {
   "cell_type": "markdown",
   "metadata": {},
   "source": [
    "## Data used : [smallest movie-lens dataset](https://grouplens.org/datasets/movielens/)\n",
    "\n",
    "Here we'll use the same data as before but instead of seeing $(user,item,rating)$ triplets or a $(user,item)$ interaction , we'll see item sequences: $user: [item, item,...]$\n",
    "\n",
    "## Loading Data (same as before but in chronological order):"
   ]
  },
  {
   "cell_type": "code",
   "execution_count": 12,
   "metadata": {},
   "outputs": [
    {
     "name": "stdout",
     "output_type": "stream",
     "text": [
      "True\n"
     ]
    }
   ],
   "source": [
    "ratings = pd.read_csv(\"dataset/ratings.csv\")\n",
    "ratings = ratings.sort_values(\"timestamp\",ascending=True)\n",
    "print(ratings.iloc[0][\"timestamp\"] < ratings.iloc[-1][\"timestamp\"] ) # just checking \n",
    "\n",
    "ratings.head(5)\n",
    "\n",
    "# we also load titles and create an id2title dictionnary\n",
    "titleCSV = pd.read_csv(\"dataset/movies.csv\")\n",
    "titleCSV.head(5)\n",
    "id2title = titleCSV[[\"movieId\",\"title\"]].set_index(\"movieId\").to_dict()[\"title\"]"
   ]
  },
  {
   "cell_type": "code",
   "execution_count": 13,
   "metadata": {},
   "outputs": [
    {
     "data": {
      "text/html": [
       "<div>\n",
       "<style scoped>\n",
       "    .dataframe tbody tr th:only-of-type {\n",
       "        vertical-align: middle;\n",
       "    }\n",
       "\n",
       "    .dataframe tbody tr th {\n",
       "        vertical-align: top;\n",
       "    }\n",
       "\n",
       "    .dataframe thead th {\n",
       "        text-align: right;\n",
       "    }\n",
       "</style>\n",
       "<table border=\"1\" class=\"dataframe\">\n",
       "  <thead>\n",
       "    <tr style=\"text-align: right;\">\n",
       "      <th></th>\n",
       "      <th>userId</th>\n",
       "      <th>movieId</th>\n",
       "      <th>rating</th>\n",
       "      <th>timestamp</th>\n",
       "    </tr>\n",
       "  </thead>\n",
       "  <tbody>\n",
       "    <tr>\n",
       "      <th>66719</th>\n",
       "      <td>429</td>\n",
       "      <td>595</td>\n",
       "      <td>5.0</td>\n",
       "      <td>828124615</td>\n",
       "    </tr>\n",
       "    <tr>\n",
       "      <th>66716</th>\n",
       "      <td>429</td>\n",
       "      <td>588</td>\n",
       "      <td>5.0</td>\n",
       "      <td>828124615</td>\n",
       "    </tr>\n",
       "    <tr>\n",
       "      <th>66717</th>\n",
       "      <td>429</td>\n",
       "      <td>590</td>\n",
       "      <td>5.0</td>\n",
       "      <td>828124615</td>\n",
       "    </tr>\n",
       "    <tr>\n",
       "      <th>66718</th>\n",
       "      <td>429</td>\n",
       "      <td>592</td>\n",
       "      <td>5.0</td>\n",
       "      <td>828124615</td>\n",
       "    </tr>\n",
       "    <tr>\n",
       "      <th>66712</th>\n",
       "      <td>429</td>\n",
       "      <td>432</td>\n",
       "      <td>3.0</td>\n",
       "      <td>828124615</td>\n",
       "    </tr>\n",
       "  </tbody>\n",
       "</table>\n",
       "</div>"
      ],
      "text/plain": [
       "       userId  movieId  rating  timestamp\n",
       "66719     429      595     5.0  828124615\n",
       "66716     429      588     5.0  828124615\n",
       "66717     429      590     5.0  828124615\n",
       "66718     429      592     5.0  828124615\n",
       "66712     429      432     3.0  828124615"
      ]
     },
     "execution_count": 13,
     "metadata": {},
     "output_type": "execute_result"
    }
   ],
   "source": [
    "ratings.head(5)"
   ]
  },
  {
   "cell_type": "markdown",
   "metadata": {},
   "source": [
    "## (a) Create sequence datasets:\n",
    "For this task, we need sequences of items as data:"
   ]
  },
  {
   "cell_type": "markdown",
   "metadata": {},
   "source": [
    "## (Todo): extract all movie sequences (in chronological order) from the dataset:\n",
    "\n",
    "\n",
    "In this dataset, each user has seen at least 20 movies.\n",
    "\n",
    "\n",
    "- We need to extract all movie rating sequences (there is one per user) from the dataset:\n",
    "\n",
    "`sequence_of_movies = [[movieid,...],[movieid,...],...]`"
   ]
  },
  {
   "cell_type": "code",
   "execution_count": 14,
   "metadata": {},
   "outputs": [],
   "source": [
    "sequences_of_movies = [i[1].tolist() for i in ratings.groupby([\"userId\"])[\"movieId\"]]"
   ]
  },
  {
   "cell_type": "markdown",
   "metadata": {},
   "source": [
    "## (Todo): Create a train/test dataset\n",
    "\n",
    "Here, we propose as task to predict the last 5 items of each sequence."
   ]
  },
  {
   "cell_type": "code",
   "execution_count": 15,
   "metadata": {},
   "outputs": [],
   "source": [
    "train_seq,test_seq = [],[]\n",
    "\n",
    "for seq in sequences_of_movies:\n",
    "    train_seq.append(seq[:-5])\n",
    "    test_seq.append(seq[-5:])\n",
    "    \n",
    "last_consumed_item = [seq[-1] for seq in train_seq] # We save the last consumed item for each list\n",
    "                                                    # We'll use it as a starting point"
   ]
  },
  {
   "cell_type": "markdown",
   "metadata": {},
   "source": [
    "## (Todo): Create the list of the most popular movies\n",
    "\n",
    "- Here, popular is the number of times the movie appears in a list"
   ]
  },
  {
   "cell_type": "code",
   "execution_count": 16,
   "metadata": {},
   "outputs": [],
   "source": [
    "from collections import Counter\n",
    "\n",
    "counts = Counter([item for sublist in sequences_of_movies for item in sublist])\n",
    "most_popular = np.array(counts.most_common(len(counts)))[:,0].tolist()\n",
    "num_items = len(most_popular)"
   ]
  },
  {
   "cell_type": "markdown",
   "metadata": {},
   "source": [
    "``` python\n",
    "#Most popular looks like this:\n",
    "[356,318,296,2571,593,260,480,110,589,...]\n",
    " ```"
   ]
  },
  {
   "cell_type": "markdown",
   "metadata": {},
   "source": [
    "## Word2Vec skip-gram <=> Prod2Vec\n",
    "\n",
    "\n",
    "### Word2Vec\n",
    "\n",
    "The MAIN idea of word2vec is to maximise the similarity (dot product) between the vectors for words which appear close together (in the context of each other) in text, and minimise the similarity of words that do not. \n",
    "\n",
    "This can be applied to products instead of words: it clusters similar products together.\n",
    "\n",
    "\n",
    "#### Paper Abstract:\n",
    "> In recent years online advertising has become increasingly ubiquitous and effective. Advertisements shown to visitors fund sites and apps that publish digital content, manage social networks, and operate e-mail services. Given such large variety of internet resources, determining an appropriate type of advertising for a given platform has become critical to financial success. Native advertisements, namely ads that are similar in look and feel to content, have had great success in news and social feeds. However, to date there has not been a winning formula for ads in e-mail clients. In this paper we describe a system that leverages user purchase history determined from e-mail receipts to deliver highly personalized product ads to Yahoo Mail users. We propose to use a novel neural language-based algorithm specifically tailored for delivering effective product recommendations, which was evaluated against baselines that included showing popular products and products predicted based on co-occurrence. We conducted rigorous offline testing using a large-scale product purchase data set, covering purchases of more than 29 million users from 172 e-commerce websites. Ads in the form of product recommendations were successfully tested on online traffic, where we observed a steady 9% lift in click-through rates over other ad formats in mail, as well as comparable lift in conversion rates. Following successful tests, the system was launched into production during the holiday season of 2014\n",
    "\n",
    "[Prod2Vec Model](https://arxiv.org/abs/1606.07154)\n",
    "\n"
   ]
  },
  {
   "cell_type": "markdown",
   "metadata": {},
   "source": [
    "## Gensim has the best python implementation of word2vec's algorithms:\n",
    "\n",
    "We can just use these raw implementations. The only thing to do is to consider items as words:"
   ]
  },
  {
   "cell_type": "code",
   "execution_count": 17,
   "metadata": {},
   "outputs": [
    {
     "name": "stderr",
     "output_type": "stream",
     "text": [
      "2021-03-10 14:06:49,269 : WARNING : consider setting layer size to a multiple of 4 for greater performance\n",
      "2021-03-10 14:06:49,271 : INFO : collecting all words and their counts\n",
      "2021-03-10 14:06:49,273 : INFO : PROGRESS: at sentence #0, processed 0 words, keeping 0 word types\n",
      "2021-03-10 14:06:49,291 : INFO : collected 9616 word types from a corpus of 97786 raw words and 610 sentences\n",
      "2021-03-10 14:06:49,293 : INFO : Loading a fresh vocabulary\n",
      "2021-03-10 14:06:49,346 : INFO : effective_min_count=0 retains 9616 unique words (100% of original 9616, drops 0)\n",
      "2021-03-10 14:06:49,347 : INFO : effective_min_count=0 leaves 97786 word corpus (100% of original 97786, drops 0)\n",
      "2021-03-10 14:06:49,382 : INFO : deleting the raw counts dictionary of 9616 items\n",
      "2021-03-10 14:06:49,383 : INFO : sample=0.001 downsamples 5 most-common words\n",
      "2021-03-10 14:06:49,385 : INFO : downsampling leaves estimated 97657 word corpus (99.9% of prior 97786)\n",
      "2021-03-10 14:06:49,410 : INFO : estimated required memory for 9616 words and 50 dimensions: 8654400 bytes\n",
      "2021-03-10 14:06:49,411 : INFO : resetting layer weights\n",
      "2021-03-10 14:06:51,823 : INFO : training model with 10 workers on 9616 vocabulary and 50 features, using sg=1 hs=0 sample=0.001 negative=15 window=10\n",
      "2021-03-10 14:06:52,726 : INFO : worker thread finished; awaiting finish of 9 more threads\n",
      "2021-03-10 14:06:52,742 : INFO : worker thread finished; awaiting finish of 8 more threads\n",
      "2021-03-10 14:06:52,750 : INFO : worker thread finished; awaiting finish of 7 more threads\n",
      "2021-03-10 14:06:52,770 : INFO : worker thread finished; awaiting finish of 6 more threads\n",
      "2021-03-10 14:06:52,783 : INFO : worker thread finished; awaiting finish of 5 more threads\n",
      "2021-03-10 14:06:52,789 : INFO : worker thread finished; awaiting finish of 4 more threads\n",
      "2021-03-10 14:06:52,804 : INFO : worker thread finished; awaiting finish of 3 more threads\n",
      "2021-03-10 14:06:52,805 : INFO : worker thread finished; awaiting finish of 2 more threads\n",
      "2021-03-10 14:06:52,807 : INFO : worker thread finished; awaiting finish of 1 more threads\n",
      "2021-03-10 14:06:52,826 : INFO : worker thread finished; awaiting finish of 0 more threads\n",
      "2021-03-10 14:06:52,827 : INFO : EPOCH - 1 : training on 97786 raw words (97687 effective words) took 1.0s, 98064 effective words/s\n",
      "2021-03-10 14:06:53,700 : INFO : worker thread finished; awaiting finish of 9 more threads\n",
      "2021-03-10 14:06:53,717 : INFO : worker thread finished; awaiting finish of 8 more threads\n",
      "2021-03-10 14:06:53,718 : INFO : worker thread finished; awaiting finish of 7 more threads\n",
      "2021-03-10 14:06:53,726 : INFO : worker thread finished; awaiting finish of 6 more threads\n",
      "2021-03-10 14:06:53,743 : INFO : worker thread finished; awaiting finish of 5 more threads\n",
      "2021-03-10 14:06:53,744 : INFO : worker thread finished; awaiting finish of 4 more threads\n",
      "2021-03-10 14:06:53,745 : INFO : worker thread finished; awaiting finish of 3 more threads\n",
      "2021-03-10 14:06:53,749 : INFO : worker thread finished; awaiting finish of 2 more threads\n",
      "2021-03-10 14:06:53,773 : INFO : worker thread finished; awaiting finish of 1 more threads\n",
      "2021-03-10 14:06:53,777 : INFO : worker thread finished; awaiting finish of 0 more threads\n",
      "2021-03-10 14:06:53,778 : INFO : EPOCH - 2 : training on 97786 raw words (97666 effective words) took 0.9s, 103832 effective words/s\n",
      "2021-03-10 14:06:54,661 : INFO : worker thread finished; awaiting finish of 9 more threads\n",
      "2021-03-10 14:06:54,665 : INFO : worker thread finished; awaiting finish of 8 more threads\n",
      "2021-03-10 14:06:54,687 : INFO : worker thread finished; awaiting finish of 7 more threads\n",
      "2021-03-10 14:06:54,689 : INFO : worker thread finished; awaiting finish of 6 more threads\n",
      "2021-03-10 14:06:54,705 : INFO : worker thread finished; awaiting finish of 5 more threads\n",
      "2021-03-10 14:06:54,709 : INFO : worker thread finished; awaiting finish of 4 more threads\n",
      "2021-03-10 14:06:54,714 : INFO : worker thread finished; awaiting finish of 3 more threads\n",
      "2021-03-10 14:06:54,715 : INFO : worker thread finished; awaiting finish of 2 more threads\n",
      "2021-03-10 14:06:54,730 : INFO : worker thread finished; awaiting finish of 1 more threads\n",
      "2021-03-10 14:06:54,738 : INFO : worker thread finished; awaiting finish of 0 more threads\n",
      "2021-03-10 14:06:54,739 : INFO : EPOCH - 3 : training on 97786 raw words (97681 effective words) took 1.0s, 102192 effective words/s\n",
      "2021-03-10 14:06:55,603 : INFO : worker thread finished; awaiting finish of 9 more threads\n",
      "2021-03-10 14:06:55,610 : INFO : worker thread finished; awaiting finish of 8 more threads\n",
      "2021-03-10 14:06:55,620 : INFO : worker thread finished; awaiting finish of 7 more threads\n",
      "2021-03-10 14:06:55,625 : INFO : worker thread finished; awaiting finish of 6 more threads\n",
      "2021-03-10 14:06:55,628 : INFO : worker thread finished; awaiting finish of 5 more threads\n",
      "2021-03-10 14:06:55,639 : INFO : worker thread finished; awaiting finish of 4 more threads\n",
      "2021-03-10 14:06:55,646 : INFO : worker thread finished; awaiting finish of 3 more threads\n",
      "2021-03-10 14:06:55,655 : INFO : worker thread finished; awaiting finish of 2 more threads\n",
      "2021-03-10 14:06:55,659 : INFO : worker thread finished; awaiting finish of 1 more threads\n",
      "2021-03-10 14:06:55,674 : INFO : worker thread finished; awaiting finish of 0 more threads\n",
      "2021-03-10 14:06:55,675 : INFO : EPOCH - 4 : training on 97786 raw words (97650 effective words) took 0.9s, 104947 effective words/s\n",
      "2021-03-10 14:06:56,546 : INFO : worker thread finished; awaiting finish of 9 more threads\n",
      "2021-03-10 14:06:56,580 : INFO : worker thread finished; awaiting finish of 8 more threads\n",
      "2021-03-10 14:06:56,580 : INFO : worker thread finished; awaiting finish of 7 more threads\n",
      "2021-03-10 14:06:56,581 : INFO : worker thread finished; awaiting finish of 6 more threads\n",
      "2021-03-10 14:06:56,581 : INFO : worker thread finished; awaiting finish of 5 more threads\n",
      "2021-03-10 14:06:56,582 : INFO : worker thread finished; awaiting finish of 4 more threads\n",
      "2021-03-10 14:06:56,583 : INFO : worker thread finished; awaiting finish of 3 more threads\n",
      "2021-03-10 14:06:56,583 : INFO : worker thread finished; awaiting finish of 2 more threads\n",
      "2021-03-10 14:06:56,587 : INFO : worker thread finished; awaiting finish of 1 more threads\n",
      "2021-03-10 14:06:56,592 : INFO : worker thread finished; awaiting finish of 0 more threads\n",
      "2021-03-10 14:06:56,593 : INFO : EPOCH - 5 : training on 97786 raw words (97679 effective words) took 0.9s, 107127 effective words/s\n",
      "2021-03-10 14:06:57,461 : INFO : worker thread finished; awaiting finish of 9 more threads\n",
      "2021-03-10 14:06:57,465 : INFO : worker thread finished; awaiting finish of 8 more threads\n",
      "2021-03-10 14:06:57,466 : INFO : worker thread finished; awaiting finish of 7 more threads\n",
      "2021-03-10 14:06:57,467 : INFO : worker thread finished; awaiting finish of 6 more threads\n",
      "2021-03-10 14:06:57,471 : INFO : worker thread finished; awaiting finish of 5 more threads\n",
      "2021-03-10 14:06:57,494 : INFO : worker thread finished; awaiting finish of 4 more threads\n",
      "2021-03-10 14:06:57,495 : INFO : worker thread finished; awaiting finish of 3 more threads\n",
      "2021-03-10 14:06:57,498 : INFO : worker thread finished; awaiting finish of 2 more threads\n",
      "2021-03-10 14:06:57,499 : INFO : worker thread finished; awaiting finish of 1 more threads\n",
      "2021-03-10 14:06:57,523 : INFO : worker thread finished; awaiting finish of 0 more threads\n",
      "2021-03-10 14:06:57,524 : INFO : EPOCH - 6 : training on 97786 raw words (97657 effective words) took 0.9s, 105648 effective words/s\n",
      "2021-03-10 14:06:58,404 : INFO : worker thread finished; awaiting finish of 9 more threads\n",
      "2021-03-10 14:06:58,406 : INFO : worker thread finished; awaiting finish of 8 more threads\n",
      "2021-03-10 14:06:58,407 : INFO : worker thread finished; awaiting finish of 7 more threads\n",
      "2021-03-10 14:06:58,427 : INFO : worker thread finished; awaiting finish of 6 more threads\n",
      "2021-03-10 14:06:58,434 : INFO : worker thread finished; awaiting finish of 5 more threads\n",
      "2021-03-10 14:06:58,435 : INFO : worker thread finished; awaiting finish of 4 more threads\n",
      "2021-03-10 14:06:58,441 : INFO : worker thread finished; awaiting finish of 3 more threads\n",
      "2021-03-10 14:06:58,448 : INFO : worker thread finished; awaiting finish of 2 more threads\n"
     ]
    },
    {
     "name": "stderr",
     "output_type": "stream",
     "text": [
      "2021-03-10 14:06:58,450 : INFO : worker thread finished; awaiting finish of 1 more threads\n",
      "2021-03-10 14:06:58,453 : INFO : worker thread finished; awaiting finish of 0 more threads\n",
      "2021-03-10 14:06:58,454 : INFO : EPOCH - 7 : training on 97786 raw words (97643 effective words) took 0.9s, 105675 effective words/s\n",
      "2021-03-10 14:06:59,568 : INFO : EPOCH 8 - PROGRESS: at 13.28% examples, 9018 words/s, in_qsize 9, out_qsize 1\n",
      "2021-03-10 14:06:59,569 : INFO : worker thread finished; awaiting finish of 9 more threads\n",
      "2021-03-10 14:06:59,600 : INFO : worker thread finished; awaiting finish of 8 more threads\n",
      "2021-03-10 14:06:59,608 : INFO : worker thread finished; awaiting finish of 7 more threads\n",
      "2021-03-10 14:06:59,610 : INFO : worker thread finished; awaiting finish of 6 more threads\n",
      "2021-03-10 14:06:59,620 : INFO : worker thread finished; awaiting finish of 5 more threads\n",
      "2021-03-10 14:06:59,621 : INFO : worker thread finished; awaiting finish of 4 more threads\n",
      "2021-03-10 14:06:59,622 : INFO : worker thread finished; awaiting finish of 3 more threads\n",
      "2021-03-10 14:06:59,623 : INFO : worker thread finished; awaiting finish of 2 more threads\n",
      "2021-03-10 14:06:59,625 : INFO : worker thread finished; awaiting finish of 1 more threads\n",
      "2021-03-10 14:06:59,639 : INFO : worker thread finished; awaiting finish of 0 more threads\n",
      "2021-03-10 14:06:59,640 : INFO : EPOCH - 8 : training on 97786 raw words (97655 effective words) took 1.2s, 83920 effective words/s\n",
      "2021-03-10 14:07:00,680 : INFO : EPOCH 9 - PROGRESS: at 13.28% examples, 9519 words/s, in_qsize 9, out_qsize 1\n",
      "2021-03-10 14:07:00,681 : INFO : worker thread finished; awaiting finish of 9 more threads\n",
      "2021-03-10 14:07:00,720 : INFO : worker thread finished; awaiting finish of 8 more threads\n",
      "2021-03-10 14:07:00,721 : INFO : worker thread finished; awaiting finish of 7 more threads\n",
      "2021-03-10 14:07:00,722 : INFO : worker thread finished; awaiting finish of 6 more threads\n",
      "2021-03-10 14:07:00,728 : INFO : worker thread finished; awaiting finish of 5 more threads\n",
      "2021-03-10 14:07:00,735 : INFO : worker thread finished; awaiting finish of 4 more threads\n",
      "2021-03-10 14:07:00,737 : INFO : worker thread finished; awaiting finish of 3 more threads\n",
      "2021-03-10 14:07:00,741 : INFO : worker thread finished; awaiting finish of 2 more threads\n",
      "2021-03-10 14:07:00,759 : INFO : worker thread finished; awaiting finish of 1 more threads\n",
      "2021-03-10 14:07:00,777 : INFO : worker thread finished; awaiting finish of 0 more threads\n",
      "2021-03-10 14:07:00,779 : INFO : EPOCH - 9 : training on 97786 raw words (97659 effective words) took 1.1s, 86166 effective words/s\n",
      "2021-03-10 14:07:01,772 : INFO : worker thread finished; awaiting finish of 9 more threads\n",
      "2021-03-10 14:07:01,811 : INFO : EPOCH 10 - PROGRESS: at 25.90% examples, 19338 words/s, in_qsize 8, out_qsize 1\n",
      "2021-03-10 14:07:01,812 : INFO : worker thread finished; awaiting finish of 8 more threads\n",
      "2021-03-10 14:07:01,824 : INFO : worker thread finished; awaiting finish of 7 more threads\n",
      "2021-03-10 14:07:01,830 : INFO : worker thread finished; awaiting finish of 6 more threads\n",
      "2021-03-10 14:07:01,846 : INFO : worker thread finished; awaiting finish of 5 more threads\n",
      "2021-03-10 14:07:01,849 : INFO : worker thread finished; awaiting finish of 4 more threads\n",
      "2021-03-10 14:07:01,854 : INFO : worker thread finished; awaiting finish of 3 more threads\n",
      "2021-03-10 14:07:01,856 : INFO : worker thread finished; awaiting finish of 2 more threads\n",
      "2021-03-10 14:07:01,871 : INFO : worker thread finished; awaiting finish of 1 more threads\n",
      "2021-03-10 14:07:01,890 : INFO : worker thread finished; awaiting finish of 0 more threads\n",
      "2021-03-10 14:07:01,891 : INFO : EPOCH - 10 : training on 97786 raw words (97671 effective words) took 1.1s, 88358 effective words/s\n",
      "2021-03-10 14:07:02,837 : INFO : worker thread finished; awaiting finish of 9 more threads\n",
      "2021-03-10 14:07:02,844 : INFO : worker thread finished; awaiting finish of 8 more threads\n",
      "2021-03-10 14:07:02,851 : INFO : worker thread finished; awaiting finish of 7 more threads\n",
      "2021-03-10 14:07:02,860 : INFO : worker thread finished; awaiting finish of 6 more threads\n",
      "2021-03-10 14:07:02,861 : INFO : worker thread finished; awaiting finish of 5 more threads\n",
      "2021-03-10 14:07:02,871 : INFO : worker thread finished; awaiting finish of 4 more threads\n",
      "2021-03-10 14:07:02,878 : INFO : worker thread finished; awaiting finish of 3 more threads\n",
      "2021-03-10 14:07:02,882 : INFO : worker thread finished; awaiting finish of 2 more threads\n",
      "2021-03-10 14:07:02,884 : INFO : worker thread finished; awaiting finish of 1 more threads\n",
      "2021-03-10 14:07:02,892 : INFO : worker thread finished; awaiting finish of 0 more threads\n",
      "2021-03-10 14:07:02,892 : INFO : EPOCH - 11 : training on 97786 raw words (97668 effective words) took 1.0s, 98164 effective words/s\n",
      "2021-03-10 14:07:03,918 : INFO : EPOCH 12 - PROGRESS: at 11.31% examples, 9729 words/s, in_qsize 9, out_qsize 1\n",
      "2021-03-10 14:07:03,919 : INFO : worker thread finished; awaiting finish of 9 more threads\n",
      "2021-03-10 14:07:03,919 : INFO : worker thread finished; awaiting finish of 8 more threads\n",
      "2021-03-10 14:07:03,925 : INFO : worker thread finished; awaiting finish of 7 more threads\n",
      "2021-03-10 14:07:03,937 : INFO : worker thread finished; awaiting finish of 6 more threads\n",
      "2021-03-10 14:07:03,941 : INFO : worker thread finished; awaiting finish of 5 more threads\n",
      "2021-03-10 14:07:03,945 : INFO : worker thread finished; awaiting finish of 4 more threads\n",
      "2021-03-10 14:07:03,950 : INFO : worker thread finished; awaiting finish of 3 more threads\n",
      "2021-03-10 14:07:03,955 : INFO : worker thread finished; awaiting finish of 2 more threads\n",
      "2021-03-10 14:07:03,956 : INFO : worker thread finished; awaiting finish of 1 more threads\n",
      "2021-03-10 14:07:03,984 : INFO : worker thread finished; awaiting finish of 0 more threads\n",
      "2021-03-10 14:07:03,985 : INFO : EPOCH - 12 : training on 97786 raw words (97646 effective words) took 1.1s, 89806 effective words/s\n",
      "2021-03-10 14:07:04,954 : INFO : worker thread finished; awaiting finish of 9 more threads\n",
      "2021-03-10 14:07:04,974 : INFO : worker thread finished; awaiting finish of 8 more threads\n",
      "2021-03-10 14:07:04,991 : INFO : EPOCH 13 - PROGRESS: at 34.43% examples, 29574 words/s, in_qsize 7, out_qsize 1\n",
      "2021-03-10 14:07:04,992 : INFO : worker thread finished; awaiting finish of 7 more threads\n",
      "2021-03-10 14:07:05,003 : INFO : worker thread finished; awaiting finish of 6 more threads\n",
      "2021-03-10 14:07:05,006 : INFO : worker thread finished; awaiting finish of 5 more threads\n",
      "2021-03-10 14:07:05,011 : INFO : worker thread finished; awaiting finish of 4 more threads\n",
      "2021-03-10 14:07:05,017 : INFO : worker thread finished; awaiting finish of 3 more threads\n",
      "2021-03-10 14:07:05,023 : INFO : worker thread finished; awaiting finish of 2 more threads\n",
      "2021-03-10 14:07:05,024 : INFO : worker thread finished; awaiting finish of 1 more threads\n",
      "2021-03-10 14:07:05,027 : INFO : worker thread finished; awaiting finish of 0 more threads\n",
      "2021-03-10 14:07:05,028 : INFO : EPOCH - 13 : training on 97786 raw words (97654 effective words) took 1.0s, 94070 effective words/s\n",
      "2021-03-10 14:07:06,007 : INFO : worker thread finished; awaiting finish of 9 more threads\n",
      "2021-03-10 14:07:06,017 : INFO : worker thread finished; awaiting finish of 8 more threads\n",
      "2021-03-10 14:07:06,028 : INFO : worker thread finished; awaiting finish of 7 more threads\n",
      "2021-03-10 14:07:06,030 : INFO : worker thread finished; awaiting finish of 6 more threads\n",
      "2021-03-10 14:07:06,032 : INFO : worker thread finished; awaiting finish of 5 more threads\n",
      "2021-03-10 14:07:06,049 : INFO : EPOCH 14 - PROGRESS: at 66.72% examples, 58586 words/s, in_qsize 4, out_qsize 1\n",
      "2021-03-10 14:07:06,050 : INFO : worker thread finished; awaiting finish of 4 more threads\n",
      "2021-03-10 14:07:06,051 : INFO : worker thread finished; awaiting finish of 3 more threads\n",
      "2021-03-10 14:07:06,055 : INFO : worker thread finished; awaiting finish of 2 more threads\n",
      "2021-03-10 14:07:06,059 : INFO : worker thread finished; awaiting finish of 1 more threads\n",
      "2021-03-10 14:07:06,079 : INFO : worker thread finished; awaiting finish of 0 more threads\n",
      "2021-03-10 14:07:06,080 : INFO : EPOCH - 14 : training on 97786 raw words (97666 effective words) took 1.0s, 93433 effective words/s\n"
     ]
    },
    {
     "name": "stderr",
     "output_type": "stream",
     "text": [
      "2021-03-10 14:07:07,157 : INFO : EPOCH 15 - PROGRESS: at 13.28% examples, 9206 words/s, in_qsize 9, out_qsize 1\n",
      "2021-03-10 14:07:07,158 : INFO : worker thread finished; awaiting finish of 9 more threads\n",
      "2021-03-10 14:07:07,171 : INFO : worker thread finished; awaiting finish of 8 more threads\n",
      "2021-03-10 14:07:07,179 : INFO : worker thread finished; awaiting finish of 7 more threads\n",
      "2021-03-10 14:07:07,187 : INFO : worker thread finished; awaiting finish of 6 more threads\n",
      "2021-03-10 14:07:07,213 : INFO : worker thread finished; awaiting finish of 5 more threads\n",
      "2021-03-10 14:07:07,218 : INFO : worker thread finished; awaiting finish of 4 more threads\n",
      "2021-03-10 14:07:07,220 : INFO : worker thread finished; awaiting finish of 3 more threads\n",
      "2021-03-10 14:07:07,222 : INFO : worker thread finished; awaiting finish of 2 more threads\n",
      "2021-03-10 14:07:07,227 : INFO : worker thread finished; awaiting finish of 1 more threads\n",
      "2021-03-10 14:07:07,232 : INFO : worker thread finished; awaiting finish of 0 more threads\n",
      "2021-03-10 14:07:07,233 : INFO : EPOCH - 15 : training on 97786 raw words (97670 effective words) took 1.1s, 85231 effective words/s\n",
      "2021-03-10 14:07:08,264 : INFO : EPOCH 16 - PROGRESS: at 13.28% examples, 9599 words/s, in_qsize 9, out_qsize 1\n",
      "2021-03-10 14:07:08,265 : INFO : worker thread finished; awaiting finish of 9 more threads\n",
      "2021-03-10 14:07:08,267 : INFO : worker thread finished; awaiting finish of 8 more threads\n",
      "2021-03-10 14:07:08,282 : INFO : worker thread finished; awaiting finish of 7 more threads\n",
      "2021-03-10 14:07:08,286 : INFO : worker thread finished; awaiting finish of 6 more threads\n",
      "2021-03-10 14:07:08,287 : INFO : worker thread finished; awaiting finish of 5 more threads\n",
      "2021-03-10 14:07:08,300 : INFO : worker thread finished; awaiting finish of 4 more threads\n",
      "2021-03-10 14:07:08,307 : INFO : worker thread finished; awaiting finish of 3 more threads\n",
      "2021-03-10 14:07:08,308 : INFO : worker thread finished; awaiting finish of 2 more threads\n",
      "2021-03-10 14:07:08,309 : INFO : worker thread finished; awaiting finish of 1 more threads\n",
      "2021-03-10 14:07:08,320 : INFO : worker thread finished; awaiting finish of 0 more threads\n",
      "2021-03-10 14:07:08,321 : INFO : EPOCH - 16 : training on 97786 raw words (97658 effective words) took 1.1s, 90171 effective words/s\n",
      "2021-03-10 14:07:09,301 : INFO : worker thread finished; awaiting finish of 9 more threads\n",
      "2021-03-10 14:07:09,331 : INFO : EPOCH 17 - PROGRESS: at 15.74% examples, 18768 words/s, in_qsize 8, out_qsize 1\n",
      "2021-03-10 14:07:09,331 : INFO : worker thread finished; awaiting finish of 8 more threads\n",
      "2021-03-10 14:07:09,340 : INFO : worker thread finished; awaiting finish of 7 more threads\n",
      "2021-03-10 14:07:09,340 : INFO : worker thread finished; awaiting finish of 6 more threads\n",
      "2021-03-10 14:07:09,356 : INFO : worker thread finished; awaiting finish of 5 more threads\n",
      "2021-03-10 14:07:09,360 : INFO : worker thread finished; awaiting finish of 4 more threads\n",
      "2021-03-10 14:07:09,362 : INFO : worker thread finished; awaiting finish of 3 more threads\n",
      "2021-03-10 14:07:09,365 : INFO : worker thread finished; awaiting finish of 2 more threads\n",
      "2021-03-10 14:07:09,384 : INFO : worker thread finished; awaiting finish of 1 more threads\n",
      "2021-03-10 14:07:09,388 : INFO : worker thread finished; awaiting finish of 0 more threads\n",
      "2021-03-10 14:07:09,389 : INFO : EPOCH - 17 : training on 97786 raw words (97664 effective words) took 1.1s, 91864 effective words/s\n",
      "2021-03-10 14:07:10,419 : INFO : EPOCH 18 - PROGRESS: at 2.46% examples, 8797 words/s, in_qsize 8, out_qsize 3\n",
      "2021-03-10 14:07:10,419 : INFO : worker thread finished; awaiting finish of 9 more threads\n",
      "2021-03-10 14:07:10,420 : INFO : worker thread finished; awaiting finish of 8 more threads\n",
      "2021-03-10 14:07:10,421 : INFO : worker thread finished; awaiting finish of 7 more threads\n",
      "2021-03-10 14:07:10,443 : INFO : worker thread finished; awaiting finish of 6 more threads\n",
      "2021-03-10 14:07:10,444 : INFO : worker thread finished; awaiting finish of 5 more threads\n",
      "2021-03-10 14:07:10,449 : INFO : worker thread finished; awaiting finish of 4 more threads\n",
      "2021-03-10 14:07:10,453 : INFO : worker thread finished; awaiting finish of 3 more threads\n",
      "2021-03-10 14:07:10,462 : INFO : worker thread finished; awaiting finish of 2 more threads\n",
      "2021-03-10 14:07:10,467 : INFO : worker thread finished; awaiting finish of 1 more threads\n",
      "2021-03-10 14:07:10,477 : INFO : worker thread finished; awaiting finish of 0 more threads\n",
      "2021-03-10 14:07:10,478 : INFO : EPOCH - 18 : training on 97786 raw words (97658 effective words) took 1.1s, 90137 effective words/s\n",
      "2021-03-10 14:07:11,461 : INFO : worker thread finished; awaiting finish of 9 more threads\n",
      "2021-03-10 14:07:11,465 : INFO : worker thread finished; awaiting finish of 8 more threads\n",
      "2021-03-10 14:07:11,469 : INFO : worker thread finished; awaiting finish of 7 more threads\n",
      "2021-03-10 14:07:11,485 : INFO : EPOCH 19 - PROGRESS: at 37.87% examples, 38700 words/s, in_qsize 6, out_qsize 1\n",
      "2021-03-10 14:07:11,486 : INFO : worker thread finished; awaiting finish of 6 more threads\n",
      "2021-03-10 14:07:11,502 : INFO : worker thread finished; awaiting finish of 5 more threads\n",
      "2021-03-10 14:07:11,510 : INFO : worker thread finished; awaiting finish of 4 more threads\n",
      "2021-03-10 14:07:11,526 : INFO : worker thread finished; awaiting finish of 3 more threads\n",
      "2021-03-10 14:07:11,529 : INFO : worker thread finished; awaiting finish of 2 more threads\n",
      "2021-03-10 14:07:11,530 : INFO : worker thread finished; awaiting finish of 1 more threads\n",
      "2021-03-10 14:07:11,553 : INFO : worker thread finished; awaiting finish of 0 more threads\n",
      "2021-03-10 14:07:11,554 : INFO : EPOCH - 19 : training on 97786 raw words (97669 effective words) took 1.1s, 91226 effective words/s\n",
      "2021-03-10 14:07:12,469 : INFO : worker thread finished; awaiting finish of 9 more threads\n",
      "2021-03-10 14:07:12,536 : INFO : worker thread finished; awaiting finish of 8 more threads\n",
      "2021-03-10 14:07:12,543 : INFO : worker thread finished; awaiting finish of 7 more threads\n",
      "2021-03-10 14:07:12,552 : INFO : worker thread finished; awaiting finish of 6 more threads\n",
      "2021-03-10 14:07:12,558 : INFO : worker thread finished; awaiting finish of 5 more threads\n",
      "2021-03-10 14:07:12,563 : INFO : EPOCH 20 - PROGRESS: at 56.72% examples, 58211 words/s, in_qsize 4, out_qsize 1\n",
      "2021-03-10 14:07:12,564 : INFO : worker thread finished; awaiting finish of 4 more threads\n",
      "2021-03-10 14:07:12,572 : INFO : worker thread finished; awaiting finish of 3 more threads\n",
      "2021-03-10 14:07:12,584 : INFO : worker thread finished; awaiting finish of 2 more threads\n",
      "2021-03-10 14:07:12,588 : INFO : worker thread finished; awaiting finish of 1 more threads\n",
      "2021-03-10 14:07:12,609 : INFO : worker thread finished; awaiting finish of 0 more threads\n",
      "2021-03-10 14:07:12,610 : INFO : EPOCH - 20 : training on 97786 raw words (97665 effective words) took 1.0s, 93077 effective words/s\n",
      "2021-03-10 14:07:13,672 : INFO : EPOCH 21 - PROGRESS: at 2.46% examples, 8611 words/s, in_qsize 7, out_qsize 5\n",
      "2021-03-10 14:07:13,673 : INFO : worker thread finished; awaiting finish of 9 more threads\n",
      "2021-03-10 14:07:13,673 : INFO : worker thread finished; awaiting finish of 8 more threads\n",
      "2021-03-10 14:07:13,674 : INFO : worker thread finished; awaiting finish of 7 more threads\n",
      "2021-03-10 14:07:13,680 : INFO : worker thread finished; awaiting finish of 6 more threads\n",
      "2021-03-10 14:07:13,682 : INFO : worker thread finished; awaiting finish of 5 more threads\n",
      "2021-03-10 14:07:13,684 : INFO : worker thread finished; awaiting finish of 4 more threads\n",
      "2021-03-10 14:07:13,684 : INFO : worker thread finished; awaiting finish of 3 more threads\n",
      "2021-03-10 14:07:13,688 : INFO : worker thread finished; awaiting finish of 2 more threads\n",
      "2021-03-10 14:07:13,694 : INFO : worker thread finished; awaiting finish of 1 more threads\n",
      "2021-03-10 14:07:13,698 : INFO : worker thread finished; awaiting finish of 0 more threads\n",
      "2021-03-10 14:07:13,699 : INFO : EPOCH - 21 : training on 97786 raw words (97659 effective words) took 1.1s, 91058 effective words/s\n",
      "2021-03-10 14:07:14,524 : INFO : worker thread finished; awaiting finish of 9 more threads\n",
      "2021-03-10 14:07:14,643 : INFO : worker thread finished; awaiting finish of 8 more threads\n"
     ]
    },
    {
     "name": "stderr",
     "output_type": "stream",
     "text": [
      "2021-03-10 14:07:14,644 : INFO : worker thread finished; awaiting finish of 7 more threads\n",
      "2021-03-10 14:07:14,650 : INFO : worker thread finished; awaiting finish of 6 more threads\n",
      "2021-03-10 14:07:14,656 : INFO : worker thread finished; awaiting finish of 5 more threads\n",
      "2021-03-10 14:07:14,662 : INFO : worker thread finished; awaiting finish of 4 more threads\n",
      "2021-03-10 14:07:14,669 : INFO : worker thread finished; awaiting finish of 3 more threads\n",
      "2021-03-10 14:07:14,673 : INFO : worker thread finished; awaiting finish of 2 more threads\n",
      "2021-03-10 14:07:14,675 : INFO : worker thread finished; awaiting finish of 1 more threads\n",
      "2021-03-10 14:07:14,680 : INFO : worker thread finished; awaiting finish of 0 more threads\n",
      "2021-03-10 14:07:14,681 : INFO : EPOCH - 22 : training on 97786 raw words (97669 effective words) took 1.0s, 100025 effective words/s\n",
      "2021-03-10 14:07:15,617 : INFO : worker thread finished; awaiting finish of 9 more threads\n",
      "2021-03-10 14:07:15,629 : INFO : worker thread finished; awaiting finish of 8 more threads\n",
      "2021-03-10 14:07:15,640 : INFO : worker thread finished; awaiting finish of 7 more threads\n",
      "2021-03-10 14:07:15,642 : INFO : worker thread finished; awaiting finish of 6 more threads\n",
      "2021-03-10 14:07:15,659 : INFO : worker thread finished; awaiting finish of 5 more threads\n",
      "2021-03-10 14:07:15,660 : INFO : worker thread finished; awaiting finish of 4 more threads\n",
      "2021-03-10 14:07:15,664 : INFO : worker thread finished; awaiting finish of 3 more threads\n",
      "2021-03-10 14:07:15,670 : INFO : worker thread finished; awaiting finish of 2 more threads\n",
      "2021-03-10 14:07:15,676 : INFO : worker thread finished; awaiting finish of 1 more threads\n",
      "2021-03-10 14:07:15,681 : INFO : worker thread finished; awaiting finish of 0 more threads\n",
      "2021-03-10 14:07:15,681 : INFO : EPOCH - 23 : training on 97786 raw words (97669 effective words) took 1.0s, 98375 effective words/s\n",
      "2021-03-10 14:07:16,556 : INFO : worker thread finished; awaiting finish of 9 more threads\n",
      "2021-03-10 14:07:16,581 : INFO : worker thread finished; awaiting finish of 8 more threads\n",
      "2021-03-10 14:07:16,584 : INFO : worker thread finished; awaiting finish of 7 more threads\n",
      "2021-03-10 14:07:16,596 : INFO : worker thread finished; awaiting finish of 6 more threads\n",
      "2021-03-10 14:07:16,596 : INFO : worker thread finished; awaiting finish of 5 more threads\n",
      "2021-03-10 14:07:16,603 : INFO : worker thread finished; awaiting finish of 4 more threads\n",
      "2021-03-10 14:07:16,604 : INFO : worker thread finished; awaiting finish of 3 more threads\n",
      "2021-03-10 14:07:16,606 : INFO : worker thread finished; awaiting finish of 2 more threads\n",
      "2021-03-10 14:07:16,608 : INFO : worker thread finished; awaiting finish of 1 more threads\n",
      "2021-03-10 14:07:16,614 : INFO : worker thread finished; awaiting finish of 0 more threads\n",
      "2021-03-10 14:07:16,615 : INFO : EPOCH - 24 : training on 97786 raw words (97678 effective words) took 0.9s, 105094 effective words/s\n",
      "2021-03-10 14:07:17,484 : INFO : worker thread finished; awaiting finish of 9 more threads\n",
      "2021-03-10 14:07:17,485 : INFO : worker thread finished; awaiting finish of 8 more threads\n",
      "2021-03-10 14:07:17,497 : INFO : worker thread finished; awaiting finish of 7 more threads\n",
      "2021-03-10 14:07:17,503 : INFO : worker thread finished; awaiting finish of 6 more threads\n",
      "2021-03-10 14:07:17,506 : INFO : worker thread finished; awaiting finish of 5 more threads\n",
      "2021-03-10 14:07:17,509 : INFO : worker thread finished; awaiting finish of 4 more threads\n",
      "2021-03-10 14:07:17,513 : INFO : worker thread finished; awaiting finish of 3 more threads\n",
      "2021-03-10 14:07:17,517 : INFO : worker thread finished; awaiting finish of 2 more threads\n",
      "2021-03-10 14:07:17,518 : INFO : worker thread finished; awaiting finish of 1 more threads\n",
      "2021-03-10 14:07:17,521 : INFO : worker thread finished; awaiting finish of 0 more threads\n",
      "2021-03-10 14:07:17,521 : INFO : EPOCH - 25 : training on 97786 raw words (97676 effective words) took 0.9s, 108386 effective words/s\n",
      "2021-03-10 14:07:18,347 : INFO : worker thread finished; awaiting finish of 9 more threads\n",
      "2021-03-10 14:07:18,365 : INFO : worker thread finished; awaiting finish of 8 more threads\n",
      "2021-03-10 14:07:18,373 : INFO : worker thread finished; awaiting finish of 7 more threads\n",
      "2021-03-10 14:07:18,374 : INFO : worker thread finished; awaiting finish of 6 more threads\n",
      "2021-03-10 14:07:18,378 : INFO : worker thread finished; awaiting finish of 5 more threads\n",
      "2021-03-10 14:07:18,380 : INFO : worker thread finished; awaiting finish of 4 more threads\n",
      "2021-03-10 14:07:18,383 : INFO : worker thread finished; awaiting finish of 3 more threads\n",
      "2021-03-10 14:07:18,388 : INFO : worker thread finished; awaiting finish of 2 more threads\n",
      "2021-03-10 14:07:18,389 : INFO : worker thread finished; awaiting finish of 1 more threads\n",
      "2021-03-10 14:07:18,391 : INFO : worker thread finished; awaiting finish of 0 more threads\n",
      "2021-03-10 14:07:18,392 : INFO : EPOCH - 26 : training on 97786 raw words (97666 effective words) took 0.9s, 112915 effective words/s\n",
      "2021-03-10 14:07:19,229 : INFO : worker thread finished; awaiting finish of 9 more threads\n",
      "2021-03-10 14:07:19,232 : INFO : worker thread finished; awaiting finish of 8 more threads\n",
      "2021-03-10 14:07:19,245 : INFO : worker thread finished; awaiting finish of 7 more threads\n",
      "2021-03-10 14:07:19,245 : INFO : worker thread finished; awaiting finish of 6 more threads\n",
      "2021-03-10 14:07:19,249 : INFO : worker thread finished; awaiting finish of 5 more threads\n",
      "2021-03-10 14:07:19,250 : INFO : worker thread finished; awaiting finish of 4 more threads\n",
      "2021-03-10 14:07:19,253 : INFO : worker thread finished; awaiting finish of 3 more threads\n",
      "2021-03-10 14:07:19,257 : INFO : worker thread finished; awaiting finish of 2 more threads\n",
      "2021-03-10 14:07:19,258 : INFO : worker thread finished; awaiting finish of 1 more threads\n",
      "2021-03-10 14:07:19,265 : INFO : worker thread finished; awaiting finish of 0 more threads\n",
      "2021-03-10 14:07:19,266 : INFO : EPOCH - 27 : training on 97786 raw words (97660 effective words) took 0.9s, 112285 effective words/s\n",
      "2021-03-10 14:07:20,112 : INFO : worker thread finished; awaiting finish of 9 more threads\n",
      "2021-03-10 14:07:20,112 : INFO : worker thread finished; awaiting finish of 8 more threads\n",
      "2021-03-10 14:07:20,113 : INFO : worker thread finished; awaiting finish of 7 more threads\n",
      "2021-03-10 14:07:20,121 : INFO : worker thread finished; awaiting finish of 6 more threads\n",
      "2021-03-10 14:07:20,127 : INFO : worker thread finished; awaiting finish of 5 more threads\n",
      "2021-03-10 14:07:20,127 : INFO : worker thread finished; awaiting finish of 4 more threads\n",
      "2021-03-10 14:07:20,128 : INFO : worker thread finished; awaiting finish of 3 more threads\n",
      "2021-03-10 14:07:20,135 : INFO : worker thread finished; awaiting finish of 2 more threads\n",
      "2021-03-10 14:07:20,138 : INFO : worker thread finished; awaiting finish of 1 more threads\n",
      "2021-03-10 14:07:20,139 : INFO : worker thread finished; awaiting finish of 0 more threads\n",
      "2021-03-10 14:07:20,140 : INFO : EPOCH - 28 : training on 97786 raw words (97653 effective words) took 0.9s, 112471 effective words/s\n",
      "2021-03-10 14:07:21,063 : INFO : worker thread finished; awaiting finish of 9 more threads\n",
      "2021-03-10 14:07:21,083 : INFO : worker thread finished; awaiting finish of 8 more threads\n",
      "2021-03-10 14:07:21,086 : INFO : worker thread finished; awaiting finish of 7 more threads\n",
      "2021-03-10 14:07:21,089 : INFO : worker thread finished; awaiting finish of 6 more threads\n",
      "2021-03-10 14:07:21,105 : INFO : worker thread finished; awaiting finish of 5 more threads\n",
      "2021-03-10 14:07:21,109 : INFO : worker thread finished; awaiting finish of 4 more threads\n",
      "2021-03-10 14:07:21,109 : INFO : worker thread finished; awaiting finish of 3 more threads\n",
      "2021-03-10 14:07:21,115 : INFO : worker thread finished; awaiting finish of 2 more threads\n",
      "2021-03-10 14:07:21,116 : INFO : worker thread finished; awaiting finish of 1 more threads\n",
      "2021-03-10 14:07:21,119 : INFO : worker thread finished; awaiting finish of 0 more threads\n",
      "2021-03-10 14:07:21,119 : INFO : EPOCH - 29 : training on 97786 raw words (97660 effective words) took 1.0s, 100278 effective words/s\n",
      "2021-03-10 14:07:22,017 : INFO : worker thread finished; awaiting finish of 9 more threads\n"
     ]
    },
    {
     "name": "stderr",
     "output_type": "stream",
     "text": [
      "2021-03-10 14:07:22,026 : INFO : worker thread finished; awaiting finish of 8 more threads\n",
      "2021-03-10 14:07:22,029 : INFO : worker thread finished; awaiting finish of 7 more threads\n",
      "2021-03-10 14:07:22,041 : INFO : worker thread finished; awaiting finish of 6 more threads\n",
      "2021-03-10 14:07:22,048 : INFO : worker thread finished; awaiting finish of 5 more threads\n",
      "2021-03-10 14:07:22,049 : INFO : worker thread finished; awaiting finish of 4 more threads\n",
      "2021-03-10 14:07:22,058 : INFO : worker thread finished; awaiting finish of 3 more threads\n",
      "2021-03-10 14:07:22,065 : INFO : worker thread finished; awaiting finish of 2 more threads\n",
      "2021-03-10 14:07:22,066 : INFO : worker thread finished; awaiting finish of 1 more threads\n",
      "2021-03-10 14:07:22,072 : INFO : worker thread finished; awaiting finish of 0 more threads\n",
      "2021-03-10 14:07:22,073 : INFO : EPOCH - 30 : training on 97786 raw words (97666 effective words) took 0.9s, 103058 effective words/s\n",
      "2021-03-10 14:07:23,000 : INFO : worker thread finished; awaiting finish of 9 more threads\n",
      "2021-03-10 14:07:23,014 : INFO : worker thread finished; awaiting finish of 8 more threads\n",
      "2021-03-10 14:07:23,014 : INFO : worker thread finished; awaiting finish of 7 more threads\n",
      "2021-03-10 14:07:23,026 : INFO : worker thread finished; awaiting finish of 6 more threads\n",
      "2021-03-10 14:07:23,029 : INFO : worker thread finished; awaiting finish of 5 more threads\n",
      "2021-03-10 14:07:23,034 : INFO : worker thread finished; awaiting finish of 4 more threads\n",
      "2021-03-10 14:07:23,037 : INFO : worker thread finished; awaiting finish of 3 more threads\n",
      "2021-03-10 14:07:23,039 : INFO : worker thread finished; awaiting finish of 2 more threads\n",
      "2021-03-10 14:07:23,040 : INFO : worker thread finished; awaiting finish of 1 more threads\n",
      "2021-03-10 14:07:23,046 : INFO : worker thread finished; awaiting finish of 0 more threads\n",
      "2021-03-10 14:07:23,047 : INFO : EPOCH - 31 : training on 97786 raw words (97666 effective words) took 1.0s, 100772 effective words/s\n",
      "2021-03-10 14:07:23,874 : INFO : worker thread finished; awaiting finish of 9 more threads\n",
      "2021-03-10 14:07:23,892 : INFO : worker thread finished; awaiting finish of 8 more threads\n",
      "2021-03-10 14:07:23,894 : INFO : worker thread finished; awaiting finish of 7 more threads\n",
      "2021-03-10 14:07:23,900 : INFO : worker thread finished; awaiting finish of 6 more threads\n",
      "2021-03-10 14:07:23,902 : INFO : worker thread finished; awaiting finish of 5 more threads\n",
      "2021-03-10 14:07:23,908 : INFO : worker thread finished; awaiting finish of 4 more threads\n",
      "2021-03-10 14:07:23,909 : INFO : worker thread finished; awaiting finish of 3 more threads\n",
      "2021-03-10 14:07:23,912 : INFO : worker thread finished; awaiting finish of 2 more threads\n",
      "2021-03-10 14:07:23,915 : INFO : worker thread finished; awaiting finish of 1 more threads\n",
      "2021-03-10 14:07:23,916 : INFO : worker thread finished; awaiting finish of 0 more threads\n",
      "2021-03-10 14:07:23,916 : INFO : EPOCH - 32 : training on 97786 raw words (97654 effective words) took 0.9s, 112996 effective words/s\n",
      "2021-03-10 14:07:24,748 : INFO : worker thread finished; awaiting finish of 9 more threads\n",
      "2021-03-10 14:07:24,756 : INFO : worker thread finished; awaiting finish of 8 more threads\n",
      "2021-03-10 14:07:24,764 : INFO : worker thread finished; awaiting finish of 7 more threads\n",
      "2021-03-10 14:07:24,765 : INFO : worker thread finished; awaiting finish of 6 more threads\n",
      "2021-03-10 14:07:24,771 : INFO : worker thread finished; awaiting finish of 5 more threads\n",
      "2021-03-10 14:07:24,772 : INFO : worker thread finished; awaiting finish of 4 more threads\n",
      "2021-03-10 14:07:24,774 : INFO : worker thread finished; awaiting finish of 3 more threads\n",
      "2021-03-10 14:07:24,778 : INFO : worker thread finished; awaiting finish of 2 more threads\n",
      "2021-03-10 14:07:24,784 : INFO : worker thread finished; awaiting finish of 1 more threads\n",
      "2021-03-10 14:07:24,785 : INFO : worker thread finished; awaiting finish of 0 more threads\n",
      "2021-03-10 14:07:24,785 : INFO : EPOCH - 33 : training on 97786 raw words (97636 effective words) took 0.9s, 113110 effective words/s\n",
      "2021-03-10 14:07:25,617 : INFO : worker thread finished; awaiting finish of 9 more threads\n",
      "2021-03-10 14:07:25,633 : INFO : worker thread finished; awaiting finish of 8 more threads\n",
      "2021-03-10 14:07:25,634 : INFO : worker thread finished; awaiting finish of 7 more threads\n",
      "2021-03-10 14:07:25,643 : INFO : worker thread finished; awaiting finish of 6 more threads\n",
      "2021-03-10 14:07:25,646 : INFO : worker thread finished; awaiting finish of 5 more threads\n",
      "2021-03-10 14:07:25,647 : INFO : worker thread finished; awaiting finish of 4 more threads\n",
      "2021-03-10 14:07:25,651 : INFO : worker thread finished; awaiting finish of 3 more threads\n",
      "2021-03-10 14:07:25,652 : INFO : worker thread finished; awaiting finish of 2 more threads\n",
      "2021-03-10 14:07:25,653 : INFO : worker thread finished; awaiting finish of 1 more threads\n",
      "2021-03-10 14:07:25,656 : INFO : worker thread finished; awaiting finish of 0 more threads\n",
      "2021-03-10 14:07:25,656 : INFO : EPOCH - 34 : training on 97786 raw words (97646 effective words) took 0.9s, 112703 effective words/s\n",
      "2021-03-10 14:07:26,497 : INFO : worker thread finished; awaiting finish of 9 more threads\n",
      "2021-03-10 14:07:26,509 : INFO : worker thread finished; awaiting finish of 8 more threads\n",
      "2021-03-10 14:07:26,510 : INFO : worker thread finished; awaiting finish of 7 more threads\n",
      "2021-03-10 14:07:26,513 : INFO : worker thread finished; awaiting finish of 6 more threads\n",
      "2021-03-10 14:07:26,521 : INFO : worker thread finished; awaiting finish of 5 more threads\n",
      "2021-03-10 14:07:26,524 : INFO : worker thread finished; awaiting finish of 4 more threads\n",
      "2021-03-10 14:07:26,528 : INFO : worker thread finished; awaiting finish of 3 more threads\n",
      "2021-03-10 14:07:26,529 : INFO : worker thread finished; awaiting finish of 2 more threads\n",
      "2021-03-10 14:07:26,530 : INFO : worker thread finished; awaiting finish of 1 more threads\n",
      "2021-03-10 14:07:26,534 : INFO : worker thread finished; awaiting finish of 0 more threads\n",
      "2021-03-10 14:07:26,534 : INFO : EPOCH - 35 : training on 97786 raw words (97667 effective words) took 0.9s, 111964 effective words/s\n",
      "2021-03-10 14:07:27,379 : INFO : worker thread finished; awaiting finish of 9 more threads\n",
      "2021-03-10 14:07:27,388 : INFO : worker thread finished; awaiting finish of 8 more threads\n",
      "2021-03-10 14:07:27,388 : INFO : worker thread finished; awaiting finish of 7 more threads\n",
      "2021-03-10 14:07:27,391 : INFO : worker thread finished; awaiting finish of 6 more threads\n",
      "2021-03-10 14:07:27,396 : INFO : worker thread finished; awaiting finish of 5 more threads\n",
      "2021-03-10 14:07:27,397 : INFO : worker thread finished; awaiting finish of 4 more threads\n",
      "2021-03-10 14:07:27,400 : INFO : worker thread finished; awaiting finish of 3 more threads\n",
      "2021-03-10 14:07:27,403 : INFO : worker thread finished; awaiting finish of 2 more threads\n",
      "2021-03-10 14:07:27,405 : INFO : worker thread finished; awaiting finish of 1 more threads\n",
      "2021-03-10 14:07:27,408 : INFO : worker thread finished; awaiting finish of 0 more threads\n",
      "2021-03-10 14:07:27,409 : INFO : EPOCH - 36 : training on 97786 raw words (97665 effective words) took 0.9s, 112355 effective words/s\n",
      "2021-03-10 14:07:28,229 : INFO : worker thread finished; awaiting finish of 9 more threads\n",
      "2021-03-10 14:07:28,248 : INFO : worker thread finished; awaiting finish of 8 more threads\n",
      "2021-03-10 14:07:28,253 : INFO : worker thread finished; awaiting finish of 7 more threads\n",
      "2021-03-10 14:07:28,253 : INFO : worker thread finished; awaiting finish of 6 more threads\n",
      "2021-03-10 14:07:28,262 : INFO : worker thread finished; awaiting finish of 5 more threads\n",
      "2021-03-10 14:07:28,263 : INFO : worker thread finished; awaiting finish of 4 more threads\n",
      "2021-03-10 14:07:28,267 : INFO : worker thread finished; awaiting finish of 3 more threads\n",
      "2021-03-10 14:07:28,269 : INFO : worker thread finished; awaiting finish of 2 more threads\n",
      "2021-03-10 14:07:28,270 : INFO : worker thread finished; awaiting finish of 1 more threads\n",
      "2021-03-10 14:07:28,271 : INFO : worker thread finished; awaiting finish of 0 more threads\n",
      "2021-03-10 14:07:28,272 : INFO : EPOCH - 37 : training on 97786 raw words (97658 effective words) took 0.9s, 113743 effective words/s\n"
     ]
    },
    {
     "name": "stderr",
     "output_type": "stream",
     "text": [
      "2021-03-10 14:07:29,103 : INFO : worker thread finished; awaiting finish of 9 more threads\n",
      "2021-03-10 14:07:29,115 : INFO : worker thread finished; awaiting finish of 8 more threads\n",
      "2021-03-10 14:07:29,121 : INFO : worker thread finished; awaiting finish of 7 more threads\n",
      "2021-03-10 14:07:29,122 : INFO : worker thread finished; awaiting finish of 6 more threads\n",
      "2021-03-10 14:07:29,126 : INFO : worker thread finished; awaiting finish of 5 more threads\n",
      "2021-03-10 14:07:29,129 : INFO : worker thread finished; awaiting finish of 4 more threads\n",
      "2021-03-10 14:07:29,133 : INFO : worker thread finished; awaiting finish of 3 more threads\n",
      "2021-03-10 14:07:29,135 : INFO : worker thread finished; awaiting finish of 2 more threads\n",
      "2021-03-10 14:07:29,136 : INFO : worker thread finished; awaiting finish of 1 more threads\n",
      "2021-03-10 14:07:29,139 : INFO : worker thread finished; awaiting finish of 0 more threads\n",
      "2021-03-10 14:07:29,139 : INFO : EPOCH - 38 : training on 97786 raw words (97650 effective words) took 0.9s, 113344 effective words/s\n",
      "2021-03-10 14:07:30,236 : INFO : EPOCH 39 - PROGRESS: at 2.46% examples, 8254 words/s, in_qsize 9, out_qsize 1\n",
      "2021-03-10 14:07:30,236 : INFO : worker thread finished; awaiting finish of 9 more threads\n",
      "2021-03-10 14:07:30,252 : INFO : worker thread finished; awaiting finish of 8 more threads\n",
      "2021-03-10 14:07:30,269 : INFO : worker thread finished; awaiting finish of 7 more threads\n",
      "2021-03-10 14:07:30,285 : INFO : worker thread finished; awaiting finish of 6 more threads\n",
      "2021-03-10 14:07:30,286 : INFO : worker thread finished; awaiting finish of 5 more threads\n",
      "2021-03-10 14:07:30,290 : INFO : worker thread finished; awaiting finish of 4 more threads\n",
      "2021-03-10 14:07:30,295 : INFO : worker thread finished; awaiting finish of 3 more threads\n",
      "2021-03-10 14:07:30,302 : INFO : worker thread finished; awaiting finish of 2 more threads\n",
      "2021-03-10 14:07:30,313 : INFO : worker thread finished; awaiting finish of 1 more threads\n",
      "2021-03-10 14:07:30,315 : INFO : worker thread finished; awaiting finish of 0 more threads\n",
      "2021-03-10 14:07:30,315 : INFO : EPOCH - 39 : training on 97786 raw words (97662 effective words) took 1.2s, 83429 effective words/s\n",
      "2021-03-10 14:07:31,254 : INFO : worker thread finished; awaiting finish of 9 more threads\n",
      "2021-03-10 14:07:31,267 : INFO : worker thread finished; awaiting finish of 8 more threads\n",
      "2021-03-10 14:07:31,272 : INFO : worker thread finished; awaiting finish of 7 more threads\n",
      "2021-03-10 14:07:31,278 : INFO : worker thread finished; awaiting finish of 6 more threads\n",
      "2021-03-10 14:07:31,282 : INFO : worker thread finished; awaiting finish of 5 more threads\n",
      "2021-03-10 14:07:31,287 : INFO : worker thread finished; awaiting finish of 4 more threads\n",
      "2021-03-10 14:07:31,292 : INFO : worker thread finished; awaiting finish of 3 more threads\n",
      "2021-03-10 14:07:31,297 : INFO : worker thread finished; awaiting finish of 2 more threads\n",
      "2021-03-10 14:07:31,299 : INFO : worker thread finished; awaiting finish of 1 more threads\n",
      "2021-03-10 14:07:31,304 : INFO : worker thread finished; awaiting finish of 0 more threads\n",
      "2021-03-10 14:07:31,305 : INFO : EPOCH - 40 : training on 97786 raw words (97656 effective words) took 1.0s, 99301 effective words/s\n",
      "2021-03-10 14:07:32,199 : INFO : worker thread finished; awaiting finish of 9 more threads\n",
      "2021-03-10 14:07:32,208 : INFO : worker thread finished; awaiting finish of 8 more threads\n",
      "2021-03-10 14:07:32,222 : INFO : worker thread finished; awaiting finish of 7 more threads\n",
      "2021-03-10 14:07:32,223 : INFO : worker thread finished; awaiting finish of 6 more threads\n",
      "2021-03-10 14:07:32,226 : INFO : worker thread finished; awaiting finish of 5 more threads\n",
      "2021-03-10 14:07:32,240 : INFO : worker thread finished; awaiting finish of 4 more threads\n",
      "2021-03-10 14:07:32,242 : INFO : worker thread finished; awaiting finish of 3 more threads\n",
      "2021-03-10 14:07:32,247 : INFO : worker thread finished; awaiting finish of 2 more threads\n",
      "2021-03-10 14:07:32,252 : INFO : worker thread finished; awaiting finish of 1 more threads\n",
      "2021-03-10 14:07:32,254 : INFO : worker thread finished; awaiting finish of 0 more threads\n",
      "2021-03-10 14:07:32,255 : INFO : EPOCH - 41 : training on 97786 raw words (97659 effective words) took 0.9s, 103410 effective words/s\n",
      "2021-03-10 14:07:33,108 : INFO : worker thread finished; awaiting finish of 9 more threads\n",
      "2021-03-10 14:07:33,116 : INFO : worker thread finished; awaiting finish of 8 more threads\n",
      "2021-03-10 14:07:33,120 : INFO : worker thread finished; awaiting finish of 7 more threads\n",
      "2021-03-10 14:07:33,127 : INFO : worker thread finished; awaiting finish of 6 more threads\n",
      "2021-03-10 14:07:33,130 : INFO : worker thread finished; awaiting finish of 5 more threads\n",
      "2021-03-10 14:07:33,135 : INFO : worker thread finished; awaiting finish of 4 more threads\n",
      "2021-03-10 14:07:33,138 : INFO : worker thread finished; awaiting finish of 3 more threads\n",
      "2021-03-10 14:07:33,141 : INFO : worker thread finished; awaiting finish of 2 more threads\n",
      "2021-03-10 14:07:33,141 : INFO : worker thread finished; awaiting finish of 1 more threads\n",
      "2021-03-10 14:07:33,144 : INFO : worker thread finished; awaiting finish of 0 more threads\n",
      "2021-03-10 14:07:33,145 : INFO : EPOCH - 42 : training on 97786 raw words (97676 effective words) took 0.9s, 110371 effective words/s\n",
      "2021-03-10 14:07:33,984 : INFO : worker thread finished; awaiting finish of 9 more threads\n",
      "2021-03-10 14:07:33,986 : INFO : worker thread finished; awaiting finish of 8 more threads\n",
      "2021-03-10 14:07:33,996 : INFO : worker thread finished; awaiting finish of 7 more threads\n",
      "2021-03-10 14:07:34,000 : INFO : worker thread finished; awaiting finish of 6 more threads\n",
      "2021-03-10 14:07:34,001 : INFO : worker thread finished; awaiting finish of 5 more threads\n",
      "2021-03-10 14:07:34,005 : INFO : worker thread finished; awaiting finish of 4 more threads\n",
      "2021-03-10 14:07:34,007 : INFO : worker thread finished; awaiting finish of 3 more threads\n",
      "2021-03-10 14:07:34,008 : INFO : worker thread finished; awaiting finish of 2 more threads\n",
      "2021-03-10 14:07:34,009 : INFO : worker thread finished; awaiting finish of 1 more threads\n",
      "2021-03-10 14:07:34,015 : INFO : worker thread finished; awaiting finish of 0 more threads\n",
      "2021-03-10 14:07:34,016 : INFO : EPOCH - 43 : training on 97786 raw words (97659 effective words) took 0.9s, 112975 effective words/s\n",
      "2021-03-10 14:07:34,840 : INFO : worker thread finished; awaiting finish of 9 more threads\n",
      "2021-03-10 14:07:34,851 : INFO : worker thread finished; awaiting finish of 8 more threads\n",
      "2021-03-10 14:07:34,853 : INFO : worker thread finished; awaiting finish of 7 more threads\n",
      "2021-03-10 14:07:34,857 : INFO : worker thread finished; awaiting finish of 6 more threads\n",
      "2021-03-10 14:07:34,865 : INFO : worker thread finished; awaiting finish of 5 more threads\n",
      "2021-03-10 14:07:34,866 : INFO : worker thread finished; awaiting finish of 4 more threads\n",
      "2021-03-10 14:07:34,870 : INFO : worker thread finished; awaiting finish of 3 more threads\n",
      "2021-03-10 14:07:34,871 : INFO : worker thread finished; awaiting finish of 2 more threads\n",
      "2021-03-10 14:07:34,872 : INFO : worker thread finished; awaiting finish of 1 more threads\n",
      "2021-03-10 14:07:34,873 : INFO : worker thread finished; awaiting finish of 0 more threads\n",
      "2021-03-10 14:07:34,874 : INFO : EPOCH - 44 : training on 97786 raw words (97657 effective words) took 0.9s, 114575 effective words/s\n",
      "2021-03-10 14:07:35,704 : INFO : worker thread finished; awaiting finish of 9 more threads\n",
      "2021-03-10 14:07:35,716 : INFO : worker thread finished; awaiting finish of 8 more threads\n",
      "2021-03-10 14:07:35,729 : INFO : worker thread finished; awaiting finish of 7 more threads\n",
      "2021-03-10 14:07:35,739 : INFO : worker thread finished; awaiting finish of 6 more threads\n",
      "2021-03-10 14:07:35,740 : INFO : worker thread finished; awaiting finish of 5 more threads\n",
      "2021-03-10 14:07:35,743 : INFO : worker thread finished; awaiting finish of 4 more threads\n",
      "2021-03-10 14:07:35,744 : INFO : worker thread finished; awaiting finish of 3 more threads\n",
      "2021-03-10 14:07:35,748 : INFO : worker thread finished; awaiting finish of 2 more threads\n",
      "2021-03-10 14:07:35,750 : INFO : worker thread finished; awaiting finish of 1 more threads\n"
     ]
    },
    {
     "name": "stderr",
     "output_type": "stream",
     "text": [
      "2021-03-10 14:07:35,760 : INFO : worker thread finished; awaiting finish of 0 more threads\n",
      "2021-03-10 14:07:35,761 : INFO : EPOCH - 45 : training on 97786 raw words (97667 effective words) took 0.9s, 110667 effective words/s\n",
      "2021-03-10 14:07:36,837 : INFO : EPOCH 46 - PROGRESS: at 2.46% examples, 8418 words/s, in_qsize 9, out_qsize 1\n",
      "2021-03-10 14:07:36,837 : INFO : worker thread finished; awaiting finish of 9 more threads\n",
      "2021-03-10 14:07:36,857 : INFO : worker thread finished; awaiting finish of 8 more threads\n",
      "2021-03-10 14:07:36,869 : INFO : worker thread finished; awaiting finish of 7 more threads\n",
      "2021-03-10 14:07:36,880 : INFO : worker thread finished; awaiting finish of 6 more threads\n",
      "2021-03-10 14:07:36,899 : INFO : worker thread finished; awaiting finish of 5 more threads\n",
      "2021-03-10 14:07:36,900 : INFO : worker thread finished; awaiting finish of 4 more threads\n",
      "2021-03-10 14:07:36,906 : INFO : worker thread finished; awaiting finish of 3 more threads\n",
      "2021-03-10 14:07:36,916 : INFO : worker thread finished; awaiting finish of 2 more threads\n",
      "2021-03-10 14:07:36,918 : INFO : worker thread finished; awaiting finish of 1 more threads\n",
      "2021-03-10 14:07:36,919 : INFO : worker thread finished; awaiting finish of 0 more threads\n",
      "2021-03-10 14:07:36,919 : INFO : EPOCH - 46 : training on 97786 raw words (97666 effective words) took 1.2s, 84702 effective words/s\n",
      "2021-03-10 14:07:37,848 : INFO : worker thread finished; awaiting finish of 9 more threads\n",
      "2021-03-10 14:07:37,858 : INFO : worker thread finished; awaiting finish of 8 more threads\n",
      "2021-03-10 14:07:37,865 : INFO : worker thread finished; awaiting finish of 7 more threads\n",
      "2021-03-10 14:07:37,866 : INFO : worker thread finished; awaiting finish of 6 more threads\n",
      "2021-03-10 14:07:37,870 : INFO : worker thread finished; awaiting finish of 5 more threads\n",
      "2021-03-10 14:07:37,879 : INFO : worker thread finished; awaiting finish of 4 more threads\n",
      "2021-03-10 14:07:37,882 : INFO : worker thread finished; awaiting finish of 3 more threads\n",
      "2021-03-10 14:07:37,883 : INFO : worker thread finished; awaiting finish of 2 more threads\n",
      "2021-03-10 14:07:37,902 : INFO : worker thread finished; awaiting finish of 1 more threads\n",
      "2021-03-10 14:07:37,909 : INFO : worker thread finished; awaiting finish of 0 more threads\n",
      "2021-03-10 14:07:37,909 : INFO : EPOCH - 47 : training on 97786 raw words (97639 effective words) took 1.0s, 100479 effective words/s\n",
      "2021-03-10 14:07:38,764 : INFO : worker thread finished; awaiting finish of 9 more threads\n",
      "2021-03-10 14:07:38,773 : INFO : worker thread finished; awaiting finish of 8 more threads\n",
      "2021-03-10 14:07:38,781 : INFO : worker thread finished; awaiting finish of 7 more threads\n",
      "2021-03-10 14:07:38,782 : INFO : worker thread finished; awaiting finish of 6 more threads\n",
      "2021-03-10 14:07:38,788 : INFO : worker thread finished; awaiting finish of 5 more threads\n",
      "2021-03-10 14:07:38,792 : INFO : worker thread finished; awaiting finish of 4 more threads\n",
      "2021-03-10 14:07:38,793 : INFO : worker thread finished; awaiting finish of 3 more threads\n",
      "2021-03-10 14:07:38,798 : INFO : worker thread finished; awaiting finish of 2 more threads\n",
      "2021-03-10 14:07:38,803 : INFO : worker thread finished; awaiting finish of 1 more threads\n",
      "2021-03-10 14:07:38,809 : INFO : worker thread finished; awaiting finish of 0 more threads\n",
      "2021-03-10 14:07:38,810 : INFO : EPOCH - 48 : training on 97786 raw words (97665 effective words) took 0.9s, 109011 effective words/s\n",
      "2021-03-10 14:07:39,671 : INFO : worker thread finished; awaiting finish of 9 more threads\n",
      "2021-03-10 14:07:39,688 : INFO : worker thread finished; awaiting finish of 8 more threads\n",
      "2021-03-10 14:07:39,689 : INFO : worker thread finished; awaiting finish of 7 more threads\n",
      "2021-03-10 14:07:39,694 : INFO : worker thread finished; awaiting finish of 6 more threads\n",
      "2021-03-10 14:07:39,701 : INFO : worker thread finished; awaiting finish of 5 more threads\n",
      "2021-03-10 14:07:39,707 : INFO : worker thread finished; awaiting finish of 4 more threads\n",
      "2021-03-10 14:07:39,710 : INFO : worker thread finished; awaiting finish of 3 more threads\n",
      "2021-03-10 14:07:39,716 : INFO : worker thread finished; awaiting finish of 2 more threads\n",
      "2021-03-10 14:07:39,719 : INFO : worker thread finished; awaiting finish of 1 more threads\n",
      "2021-03-10 14:07:39,724 : INFO : worker thread finished; awaiting finish of 0 more threads\n",
      "2021-03-10 14:07:39,724 : INFO : EPOCH - 49 : training on 97786 raw words (97641 effective words) took 0.9s, 107507 effective words/s\n",
      "2021-03-10 14:07:40,600 : INFO : worker thread finished; awaiting finish of 9 more threads\n",
      "2021-03-10 14:07:40,608 : INFO : worker thread finished; awaiting finish of 8 more threads\n",
      "2021-03-10 14:07:40,617 : INFO : worker thread finished; awaiting finish of 7 more threads\n",
      "2021-03-10 14:07:40,626 : INFO : worker thread finished; awaiting finish of 6 more threads\n",
      "2021-03-10 14:07:40,627 : INFO : worker thread finished; awaiting finish of 5 more threads\n",
      "2021-03-10 14:07:40,631 : INFO : worker thread finished; awaiting finish of 4 more threads\n",
      "2021-03-10 14:07:40,633 : INFO : worker thread finished; awaiting finish of 3 more threads\n",
      "2021-03-10 14:07:40,641 : INFO : worker thread finished; awaiting finish of 2 more threads\n",
      "2021-03-10 14:07:40,644 : INFO : worker thread finished; awaiting finish of 1 more threads\n",
      "2021-03-10 14:07:40,649 : INFO : worker thread finished; awaiting finish of 0 more threads\n",
      "2021-03-10 14:07:40,650 : INFO : EPOCH - 50 : training on 97786 raw words (97671 effective words) took 0.9s, 106203 effective words/s\n",
      "2021-03-10 14:07:40,650 : INFO : training on a 4889300 raw words (4883082 effective words) took 48.8s, 100008 effective words/s\n"
     ]
    }
   ],
   "source": [
    "import gensim\n",
    "import logging\n",
    "logging.basicConfig(format='%(asctime)s : %(levelname)s : %(message)s', level=logging.INFO)\n",
    "\n",
    "\n",
    "\n",
    "train_seq_str = [list(map(str,seq)) for seq in train_seq] # we just say that our items id's are strings..\n",
    "    \n",
    "\n",
    "# the following configuration is the default configuration\n",
    "w2v = gensim.models.word2vec.Word2Vec(sentences=train_seq_str,\n",
    "                                size=50, window=10,               ### here we train a cbow model \n",
    "                                min_count=0,                      \n",
    "                                sample=0.001, ns_exponent=0.75, workers=10,\n",
    "                                sg=1, hs=0, negative=15,          ### set sg to 1 to train a sg model => Prod2Vec\n",
    "                                cbow_mean=0,\n",
    "                                iter=50)"
   ]
  },
  {
   "cell_type": "markdown",
   "metadata": {},
   "source": [
    "### A few things:"
   ]
  },
  {
   "cell_type": "code",
   "execution_count": 18,
   "metadata": {},
   "outputs": [
    {
     "name": "stdout",
     "output_type": "stream",
     "text": [
      "[ 3.94260615e-01  1.59086823e-01  4.36876923e-01 -1.97362229e-01\n",
      " -2.18700424e-01 -6.10750794e-01 -6.15335166e-01 -4.72868860e-01\n",
      "  6.49634421e-01 -4.43015881e-02  1.03993714e-01 -1.45449378e-02\n",
      " -3.98581266e-01  4.17220563e-01  8.00067931e-02 -1.52845219e-01\n",
      "  3.23591352e-01  3.50121945e-01 -5.36270477e-02  5.83886266e-01\n",
      " -2.98651159e-01  1.49118587e-01 -1.69977576e-01 -2.59271294e-01\n",
      " -2.45543924e-06  2.60050684e-01  3.96595970e-02  1.25590324e-01\n",
      "  1.20305479e-01 -6.05447851e-02 -3.50297123e-01 -2.53024578e-01\n",
      " -2.90223844e-02 -2.74757445e-01  6.47268474e-01  4.44178171e-02\n",
      "  3.42183322e-01  8.37778628e-01  7.14502335e-02  1.31059498e-01\n",
      " -5.34952916e-02  4.93892908e-01  6.92009628e-01  7.61877239e-01\n",
      "  2.35814303e-01 -5.91364913e-02 -6.41248941e-01  2.91897476e-01\n",
      "  1.06868470e+00 -1.95978731e-01]\n",
      "356\n",
      "0\n"
     ]
    }
   ],
   "source": [
    "print(w2v.wv.vectors[0])              # The vector of index 0\n",
    "print(w2v.wv.index2word[0])           # codes for the movieId 356\n",
    "print(w2v.wv.vocab[\"356\"].index)      # Inverse mapping\n"
   ]
  },
  {
   "cell_type": "markdown",
   "metadata": {},
   "source": [
    "## Getting similar items:\n",
    "\n",
    "The heart of the algorithm is in the similar item search. As in word2vec, we simply use cosine distance between items to find \"similar items\"\n",
    "\n",
    "### We can search by id's"
   ]
  },
  {
   "cell_type": "code",
   "execution_count": 19,
   "metadata": {},
   "outputs": [
    {
     "name": "stderr",
     "output_type": "stream",
     "text": [
      "2021-03-10 14:07:40,675 : INFO : precomputing L2-norms of word weight vectors\n"
     ]
    },
    {
     "data": {
      "text/plain": [
       "[26142, 66915, 27829, 26195, 44241]"
      ]
     },
     "execution_count": 19,
     "metadata": {},
     "output_type": "execute_result"
    }
   ],
   "source": [
    "def get_similar_ids(w2vmodel,iid,num=5):\n",
    "    \n",
    "    if str(iid) in w2vmodel.wv.vocab:\n",
    "        return [int(iid) for iid,_ in w2vmodel.wv.most_similar(str(iid),topn=num)] \n",
    "    else:\n",
    "        return []\n",
    "\n",
    "get_similar_ids(w2v,last_consumed_item[0],num=5)"
   ]
  },
  {
   "cell_type": "markdown",
   "metadata": {},
   "source": [
    "### Or by vector"
   ]
  },
  {
   "cell_type": "code",
   "execution_count": 20,
   "metadata": {},
   "outputs": [
    {
     "data": {
      "text/plain": [
       "array([ 0.49709412,  0.12318099,  0.2547634 , -0.2854433 ,  0.8169838 ,\n",
       "       -0.00593364, -0.06113341,  0.41262147,  0.01466568, -0.3207735 ,\n",
       "       -1.8353463 ,  0.31282464, -0.570262  ,  0.6451977 , -0.65667695,\n",
       "       -0.4109201 ,  0.2599896 ,  1.1162055 , -1.0568888 ,  0.6207373 ,\n",
       "       -0.549457  , -0.48206872, -0.3003626 , -0.7505662 ,  0.5699458 ,\n",
       "       -0.43911052, -0.20870365,  0.05336251, -0.27725694,  0.19240242,\n",
       "       -1.6434628 ,  1.353952  ,  0.5834888 ,  0.43346962, -0.13974561,\n",
       "       -0.66950804,  1.3226165 ,  1.4049426 ,  0.42214537,  0.52268046,\n",
       "        0.37544382,  1.1386514 ,  0.9060168 , -0.09290173,  0.3519177 ,\n",
       "        0.00902228,  0.01525932,  0.17131856,  0.6134191 , -0.83163404],\n",
       "      dtype=float32)"
      ]
     },
     "execution_count": 20,
     "metadata": {},
     "output_type": "execute_result"
    }
   ],
   "source": [
    "w2v.wv[str(last_consumed_item[0])]"
   ]
  },
  {
   "cell_type": "code",
   "execution_count": 21,
   "metadata": {},
   "outputs": [
    {
     "data": {
      "text/plain": [
       "[157, 26142, 66915, 27829, 26195]"
      ]
     },
     "execution_count": 21,
     "metadata": {},
     "output_type": "execute_result"
    }
   ],
   "source": [
    "def get_similar_vectors(w2vmodel,vec,num=5):\n",
    "        return [int(iid) for iid,_ in w2vmodel.wv.most_similar(positive=[vec],topn=num)] \n",
    "\n",
    "get_similar_vectors(w2v,w2v.wv[str(last_consumed_item[0])],num=5) # items are strings"
   ]
  },
  {
   "cell_type": "markdown",
   "metadata": {},
   "source": [
    "### Let's see if this works\n",
    "\n",
    "We can query by id"
   ]
  },
  {
   "cell_type": "code",
   "execution_count": 22,
   "metadata": {},
   "outputs": [
    {
     "name": "stdout",
     "output_type": "stream",
     "text": [
      "Movies similar to:  Toy Story (1995)\n",
      "\n",
      "-->  Toy Story 2 (1999)\n",
      "-->  Forrest Gump (1994)\n",
      "-->  Aladdin (1992)\n"
     ]
    }
   ],
   "source": [
    "ID = 1\n",
    "NUM_SIM = 3\n",
    "\n",
    "print(\"Movies similar to: \", id2title[ID])\n",
    "print(\"\")\n",
    "for x in get_similar_ids(w2v,ID,NUM_SIM):\n",
    "    print(\"--> \",id2title[x])"
   ]
  },
  {
   "cell_type": "markdown",
   "metadata": {},
   "source": [
    "We can also query by vector\n",
    "\n",
    "**NOTE:** the 1st results can be the item(s) you've used to query"
   ]
  },
  {
   "cell_type": "code",
   "execution_count": 23,
   "metadata": {},
   "outputs": [
    {
     "name": "stdout",
     "output_type": "stream",
     "text": [
      "Movies similar to:  Toy Story (1995)\n",
      "\n",
      "-->  Toy Story (1995)\n",
      "-->  Toy Story 2 (1999)\n",
      "-->  Forrest Gump (1994)\n",
      "-->  Aladdin (1992)\n"
     ]
    }
   ],
   "source": [
    "ID = 1\n",
    "NUM_SIM = 4\n",
    "print(\"Movies similar to: \", id2title[ID])\n",
    "print(\"\")\n",
    "for x in get_similar_vectors(w2v,w2v.wv[str(ID)],NUM_SIM):\n",
    "    print(\"--> \",id2title[x])"
   ]
  },
  {
   "cell_type": "markdown",
   "metadata": {},
   "source": [
    "Our result was the following (for ID = 1 & NUM_SIM = 3)\n",
    "\n",
    ">Movies similar to:  Toy Story (1995)\n",
    ">-  Beauty and the Beast (1991)\n",
    "-   Toy Story 2 (1999)\n",
    "-   Lion King, The (1994)\n"
   ]
  },
  {
   "cell_type": "markdown",
   "metadata": {},
   "source": [
    "Using vectors enables operations like additions to be made"
   ]
  },
  {
   "cell_type": "code",
   "execution_count": 24,
   "metadata": {},
   "outputs": [
    {
     "name": "stdout",
     "output_type": "stream",
     "text": [
      "Movies similar to:  Matrix, The (1999) + Terminator 2: Judgment Day (1991)\n",
      "\n",
      "-->  Matrix, The (1999)\n",
      "-->  Saving Private Ryan (1998)\n",
      "-->  Terminator, The (1984)\n",
      "-->  Terminator 2: Judgment Day (1991)\n",
      "-->  Braveheart (1995)\n",
      "-->  Sixth Sense, The (1999)\n",
      "-->  Silence of the Lambs, The (1991)\n",
      "-->  Star Wars: Episode V - The Empire Strikes Back (1980)\n",
      "-->  Die Hard (1988)\n",
      "-->  Forrest Gump (1994)\n"
     ]
    }
   ],
   "source": [
    "ID1 = 2571\n",
    "ID2 = 589\n",
    "NUM_SIM = 10\n",
    "\n",
    "vec = np.max([w2v.wv[str(ID1)],w2v.wv[str(ID2)]],axis=0)# + w2v.wv[str(318)]\n",
    "\n",
    "print(\"Movies similar to: \", id2title[ID1] , \"+\",  id2title[ID2] )\n",
    "print(\"\")\n",
    "for x in get_similar_vectors(w2v,vec ,NUM_SIM):\n",
    "    print(\"--> \",id2title[x])"
   ]
  },
  {
   "cell_type": "markdown",
   "metadata": {},
   "source": [
    "Ok, we now have a good base for our sequence recommendation algorithm, let's write something to evaluate our predictions"
   ]
  },
  {
   "cell_type": "markdown",
   "metadata": {},
   "source": [
    "## (Todo) write a `get_relevance_list(proposed_ids,real_ids)` function:\n",
    "\n",
    "This function will be used to compare proposed items w/ real items:\n",
    "\n",
    "\n",
    "- A relevant item is an item which is in the ground truth\n",
    "- It returns a list which length is the number of proposed items filled of 0's and 1's : 0 means the item is not relevant, 1 means it's relevant.\n",
    "\n",
    "- get_relevance_list([1,2,3,4],[1,4,5,6]) should returns [1,0,0,1]  because items 1 and 4 are relevant.\n"
   ]
  },
  {
   "cell_type": "code",
   "execution_count": 25,
   "metadata": {},
   "outputs": [
    {
     "data": {
      "text/plain": [
       "[1, 0, 0, 1]"
      ]
     },
     "execution_count": 25,
     "metadata": {},
     "output_type": "execute_result"
    }
   ],
   "source": [
    "def get_relevance_list(proposed_ids,real_ids):\n",
    "    real_ids = set(real_ids)\n",
    "    return [1 if i in real_ids else 0 for i in proposed_ids]\n",
    "get_relevance_list([1,2,3,4],[1,4,5,6]) #returns [1,0,0,1]"
   ]
  },
  {
   "cell_type": "markdown",
   "metadata": {},
   "source": [
    "### Let's test our function on our data"
   ]
  },
  {
   "cell_type": "code",
   "execution_count": 26,
   "metadata": {},
   "outputs": [
    {
     "data": {
      "text/plain": [
       "[0, 0, 0, 0, 0, 0, 0, 0, 0, 0, 0, 0, 0, 0, 0, 0, 0, 0, 0, 0, 0, 0, 0, 0, 0]"
      ]
     },
     "execution_count": 26,
     "metadata": {},
     "output_type": "execute_result"
    }
   ],
   "source": [
    "get_relevance_list(most_popular[:25],test_seq[1])"
   ]
  },
  {
   "cell_type": "code",
   "execution_count": 27,
   "metadata": {},
   "outputs": [
    {
     "data": {
      "text/plain": [
       "[0, 0, 0, 0, 0, 0, 0, 0, 0, 0, 0, 0, 0, 0, 0, 0, 0, 0, 0, 0, 0, 0, 0, 0, 0]"
      ]
     },
     "execution_count": 27,
     "metadata": {},
     "output_type": "execute_result"
    }
   ],
   "source": [
    "get_relevance_list(get_similar_ids(w2v,last_consumed_item[0],25),test_seq[0])"
   ]
  },
  {
   "cell_type": "markdown",
   "metadata": {},
   "source": [
    "## Ok, now, let's write prediction funtions:\n",
    "\n",
    "- `predict_pop` will recommend the k's most popular items\n",
    "- `predict_w2v` will recommend the k's most similar items to the last one consumed\n",
    "\n",
    "#### (TODO) : complete those functions"
   ]
  },
  {
   "cell_type": "code",
   "execution_count": 28,
   "metadata": {},
   "outputs": [],
   "source": [
    "def predict_pop(last_seen,k):\n",
    "    return most_popular[:k]\n",
    "\n",
    "def predict_w2v(last_seen,k):\n",
    "    return get_similar_vectors(w2v,w2v.wv[str(last_seen)],num=k)\n",
    "\n",
    "#data is list of last_consumed:\n",
    "def get_predictions(predict_func,data,truth,k=5):\n",
    "    if k == -1 or k == 0:\n",
    "        k = num_items\n",
    "    return [get_relevance_list(predict_func(last_seen,k),will_see) for last_seen,will_see in zip(data,truth)]"
   ]
  },
  {
   "cell_type": "markdown",
   "metadata": {},
   "source": [
    "**Note**: The `get_predictions(...)` function returns the relevant list associated to predictions"
   ]
  },
  {
   "cell_type": "markdown",
   "metadata": {},
   "source": [
    "### The following cells should return list of lists"
   ]
  },
  {
   "cell_type": "code",
   "execution_count": 29,
   "metadata": {},
   "outputs": [
    {
     "name": "stdout",
     "output_type": "stream",
     "text": [
      "[[0, 0, 0], [0, 0, 0], [0, 0, 0], [0, 0, 0], [0, 0, 0]]\n",
      "[[0, 0, 0], [0, 0, 0], [0, 0, 0], [0, 0, 0], [0, 0, 0]]\n"
     ]
    }
   ],
   "source": [
    "print(get_predictions(predict_pop,last_consumed_item[:5],test_seq[:5],3))\n",
    "print(get_predictions(predict_w2v,last_consumed_item[:5],test_seq[:5],3))"
   ]
  },
  {
   "cell_type": "markdown",
   "metadata": {},
   "source": [
    "expected output: \n",
    "```\n",
    "[[0, 0, 0], [0, 0, 0], [0, 0, 0], [0, 0, 0], [0, 0, 0]]\n",
    "[[0, 0, 0], [0, 0, 0], [0, 0, 0], [0, 0, 0], [0, 0, 0]]\n",
    "\n",
    "```"
   ]
  },
  {
   "cell_type": "markdown",
   "metadata": {},
   "source": [
    "## The return of the MRR and nDCG functions"
   ]
  },
  {
   "cell_type": "code",
   "execution_count": 30,
   "metadata": {},
   "outputs": [
    {
     "name": "stdout",
     "output_type": "stream",
     "text": [
      "0.4583333333333333\n",
      "3.0\n",
      "4.2618595071429155\n",
      "0.7942854176010882\n"
     ]
    }
   ],
   "source": [
    "test_list = [[0,0,1],[0,1,0],[1,0,0],[0,0,0]]\n",
    "\n",
    "def rr(list_items):\n",
    "    relevant_indexes = np.asarray(list_items).nonzero()[0]\n",
    "    \n",
    "    if len(relevant_indexes) > 0:\n",
    "        return 1/(relevant_indexes[0]+1) # arrays are indexed from 0\n",
    "    else:\n",
    "        return 0\n",
    "\n",
    "def mrr(list_list_items):\n",
    "    return np.mean([rr(list_item) for list_item in list_list_items])\n",
    "\n",
    "print(mrr(test_list)) #0.4583333333333333\n",
    "\n",
    "# The dcg@k is the sum of the relevance, penalized gradually\n",
    "def dcg_at_k(r, k):\n",
    "    \"\"\"Score is discounted cumulative gain (dcg)\n",
    "        r: Relevance scores (list or numpy) in rank order\n",
    "            (first element is the first item)\n",
    "        k: Number of results to consider\n",
    "        \n",
    "    \"\"\"\n",
    "    r = np.asfarray(r)[:k]\n",
    "    if r.size:\n",
    "        return np.sum(r / np.log2(np.arange(2, r.size + 2)))\n",
    "        \n",
    "    return 0.\n",
    "\n",
    "# test values\n",
    "# r = [3, 2, 3, 0, 0, 1, 2, 2, 3, 0]\n",
    "# dcg_at_k(r, 1) => 3.0\n",
    "# dcg_at_k(r, 2) => 4.2618595071429155\n",
    "r = [3, 2, 3, 0, 0, 1, 2, 2, 3, 0]\n",
    "print(dcg_at_k(r, 1))\n",
    "print(dcg_at_k(r, 2))\n",
    "\n",
    "def mean_dcg(rel_lists,k):\n",
    "    return np.mean([dcg_at_k(rel_list,k) for rel_list in rel_lists])\n",
    "\n",
    "# And it's normalized version\n",
    "def ndcg_at_k(r, k):\n",
    "    \"\"\"\n",
    "        r: Relevance scores (list or numpy) in rank order\n",
    "            (first element is the first item)\n",
    "        k: Number of results to consider\n",
    "    \"\"\"\n",
    "    dcg_max =  dcg_at_k(sorted(r)[::-1],k) \n",
    "    if not dcg_max:\n",
    "        return 0.\n",
    "    return dcg_at_k(r, k) / dcg_max\n",
    "\n",
    "# test values\n",
    "# r = [3, 2, 3, 0, 0, 1, 2, 2, 3, 0]\n",
    "# ndcg_at_k(r, 1) => 1.0\n",
    "# ndcg_at_k(r, 4) => 0.794285\n",
    "    \n",
    "r = [3, 2, 3, 0, 0, 1, 2, 2, 3, 0]    \n",
    "print(ndcg_at_k(r, 4))\n",
    "\n",
    "def mean_ndcg(rel_lists,k):\n",
    "    return np.mean([ndcg_at_k(rel_list,k) for rel_list in rel_lists])"
   ]
  },
  {
   "cell_type": "markdown",
   "metadata": {},
   "source": [
    "## Let's see how this naïve way of predicting items to show works"
   ]
  },
  {
   "cell_type": "code",
   "execution_count": 31,
   "metadata": {},
   "outputs": [
    {
     "name": "stdout",
     "output_type": "stream",
     "text": [
      "1/MRR\n",
      "17.869504596139933\n",
      "18.050316961446104\n",
      "\n",
      "DCG\n",
      "0.051054704276776476\n",
      "0.055976629563232135\n",
      "\n",
      "nDCG\n",
      "0.017315723982695274\n",
      "0.01924729183808887\n"
     ]
    }
   ],
   "source": [
    "pop_preds = get_predictions(predict_pop,last_consumed_item,test_seq,-1)\n",
    "w2v_preds = get_predictions(predict_w2v,last_consumed_item,test_seq,-1)\n",
    "\n",
    "print(\"1/MRR\")\n",
    "print(1/mrr(pop_preds))\n",
    "print(1/mrr(w2v_preds))\n",
    "print(\"\")\n",
    "print(\"DCG\")\n",
    "print(mean_dcg(pop_preds,5))\n",
    "print(mean_dcg(w2v_preds,5))\n",
    "print(\"\")\n",
    "print(\"nDCG\")\n",
    "print(mean_ndcg(pop_preds,5))\n",
    "print(mean_ndcg(w2v_preds,5))"
   ]
  },
  {
   "cell_type": "markdown",
   "metadata": {},
   "source": [
    "### (TODO) Can we do better ?\n",
    "\n",
    "Now, try a different strategy: \n",
    "\n",
    "\n",
    "- History should be discarded from prediction\n",
    "- Instead of basing the prediction on the last seen item, we'll take all the `seen[-n:]` ones (horizon) into account\n",
    "- To aggregate all items, we'll simply take the min rank to take into account the history offset.\n",
    "- Equal scores can be handled using the history offset.\n",
    "Example: \n",
    "\n",
    "> Let's say you chose to use the two last seen items `[item 44, Item 398]` to predict the following items\n",
    "\n",
    "Therefore, using `get_similar_ids` method on both items will yield two lists of **similar** ranked item id's:\n",
    " - Similar to item 44: `[item 1, item 33, item 5]`\n",
    " - Similar to item 398: `[item 25, item 1, item 5]`\n",
    " scores (rank,offset):\n",
    " ```\n",
    " scores := {item 1: (0,0), item 33: (1,0), item 5: (2,0) , item 25: (0,1)}```\n",
    " \n",
    " \n",
    "Then, aggregation by best rank should yield: `[1,25,33,5]`\n"
   ]
  },
  {
   "cell_type": "code",
   "execution_count": 84,
   "metadata": {},
   "outputs": [
    {
     "name": "stdout",
     "output_type": "stream",
     "text": [
      "[172, 204, 168, 511, 504]\n",
      "[]\n"
     ]
    }
   ],
   "source": [
    "print(get_similar_ids(w2v,44,num=5))\n",
    "print(get_similar_ids(w2v,398,num=5))"
   ]
  },
  {
   "cell_type": "code",
   "execution_count": 89,
   "metadata": {},
   "outputs": [
    {
     "data": {
      "text/plain": [
       "{4: ([4], [1]),\n",
       " 5: ([4, 3], [0, 1]),\n",
       " 6: ([3, 2], [0, 1]),\n",
       " 7: ([2, 1], [0, 1]),\n",
       " 8: ([1, 0], [0, 1]),\n",
       " 9: ([0], [0])}"
      ]
     },
     "execution_count": 89,
     "metadata": {},
     "output_type": "execute_result"
    }
   ],
   "source": [
    "a = [9,8,7,6,5]\n",
    "b = [8,7,6,5,4]\n",
    "similar_items = [a,b]\n",
    "\n",
    "items_ids = np.unique(liste)\n",
    "\n",
    "scores = { item : ([],[]) for item in items_ids }\n",
    "    \n",
    "for i in range(len(similar_items)):\n",
    "    for j in range(len(similar_items[i])):\n",
    "        scores[similar_items[i][j]][0].append(j)\n",
    "        scores[similar_items[i][j]][1].append(i)\n",
    "                \n",
    "        \n",
    "scores = {k:(v[0],v[1]) for k,v in scores.items()}\n",
    "            \n",
    "sorted_by_second = sorted(scores.items(), key=lambda tup: tup[1])\n",
    "scores"
   ]
  },
  {
   "cell_type": "code",
   "execution_count": 92,
   "metadata": {},
   "outputs": [
    {
     "name": "stdout",
     "output_type": "stream",
     "text": [
      "58.23020538238749\n",
      "0.01408107262782802\n",
      "0.004775739482926849\n",
      "--- 67.03965401649475 seconds ---\n"
     ]
    }
   ],
   "source": [
    "import time\n",
    "\n",
    "def predict_max_w2v(seen,k,horizon=2):\n",
    "    last_seen = seen[-horizon:]\n",
    "    similars = [get_similar_ids(w2v,l,num=k) for l in last_seen]\n",
    "    valeurs = np.unique(similars)\n",
    "    scores = { v : ([],[]) for v in valeurs }\n",
    "    \n",
    "    for i in range(len(liste)):\n",
    "        for j in range(len(liste[i])):\n",
    "            #si c'est les listes sont vides \n",
    "            if not scores[liste[i][j]][0]:       \n",
    "                scores[liste[i][j]][0].append(j)\n",
    "                scores[liste[i][j]][1].append(i)\n",
    "\n",
    "            elif scores[liste[i][j]][0][0] > j:\n",
    "                scores[liste[i][j]][0][0] = j\n",
    "                scores[liste[i][j]][1][0] = i\n",
    "\n",
    "            elif scores[liste[i][j]][0][0] == j and scores[liste[i][j]][1][0] > i:\n",
    "                scores[liste[i][j]][0][0] = j\n",
    "                scores[liste[i][j]][1][0] = i\n",
    "                \n",
    "    sorted_by_second = sorted(scores.items(), key=lambda tup: tup[1])\n",
    "    return [i[0] for i in sorted_by_second]\n",
    "\n",
    "start_time = time.time()\n",
    "\n",
    "#w2v_best_preds = get_predictions(predict_max_w2v,train_seq,test_seq,-1)\n",
    "w2v_max_preds = get_predictions(predict_max_w2v,train_seq,test_seq,-1)\n",
    "\n",
    "print(1/mrr(w2v_max_preds))\n",
    "print(mean_dcg(w2v_max_preds,5))\n",
    "print(mean_ndcg(w2v_max_preds,5))\n",
    "print(\"--- %s seconds ---\" % (time.time() - start_time))"
   ]
  },
  {
   "cell_type": "markdown",
   "metadata": {},
   "source": [
    "#### => Not really better"
   ]
  },
  {
   "cell_type": "markdown",
   "metadata": {},
   "source": [
    "## Let's visualize learned embeddings\n",
    "\n",
    "Just like in the 1st practical, we propose to visualize learnt items embeddings with the [Tensorflow projector](https://projector.tensorflow.org/)."
   ]
  },
  {
   "cell_type": "code",
   "execution_count": 94,
   "metadata": {},
   "outputs": [],
   "source": [
    "# This function saves embeddings (a numpy array) and associated labels into tsv files.\n",
    "\n",
    "def save_embeddings(embs,dict_label,path=\"saved_word_vectors\"):\n",
    "    \"\"\"\n",
    "    embs is Numpy.array(N,size)\n",
    "    dict_label is {str(word)->int(idx)} or {int(idx)->str(word)}\n",
    "    \"\"\"\n",
    "    def int_first(k,v):\n",
    "        if type(k) == int:\n",
    "            return (k,v)\n",
    "        else:\n",
    "            return (v,k)\n",
    "\n",
    "    np.savetxt(f\"{path}_vectors.tsv\", embs, delimiter=\"\\t\")\n",
    "\n",
    "    #labels \n",
    "    if dict_label:\n",
    "        sorted_labs = np.array([lab for idx,lab in sorted([int_first(k,v) for k,v in dict_label.items()])])\n",
    "        print(sorted_labs)\n",
    "        with open(f\"{path}_metadata.tsv\",\"w\") as metadata_file:\n",
    "            for x in sorted_labs: #hack for space\n",
    "                if len(x.strip()) == 0:\n",
    "                    x = f\"space-{len(x)}\"\n",
    "                    \n",
    "                metadata_file.write(f\"{x}\\n\")"
   ]
  },
  {
   "cell_type": "code",
   "execution_count": 95,
   "metadata": {},
   "outputs": [],
   "source": [
    "vec2title = {i:id2title[int(mid)] for i,mid in enumerate(w2v.wv.index2word)}"
   ]
  },
  {
   "cell_type": "code",
   "execution_count": 96,
   "metadata": {},
   "outputs": [
    {
     "name": "stdout",
     "output_type": "stream",
     "text": [
      "['Forrest Gump (1994)' 'Shawshank Redemption, The (1994)'\n",
      " 'Pulp Fiction (1994)' ... 'From Beyond (1986)' 'Signal, The (2007)'\n",
      " 'Splinter (2008)']\n"
     ]
    }
   ],
   "source": [
    "save_embeddings(w2v.wv.vectors,vec2title)"
   ]
  },
  {
   "cell_type": "markdown",
   "metadata": {},
   "source": [
    "## How to:\n",
    "\n",
    "- Now, [open this link](https://projector.tensorflow.org/), and select \"load\".\n",
    "- look for saved_word_vectors_vectors.tsv and saved_word_vectors_metadata.tsv. \n",
    "\n",
    "=> These are respectively, the items latent representations and their labels"
   ]
  },
  {
   "cell_type": "markdown",
   "metadata": {},
   "source": [
    "## Hyperparameters matter when using Word2Vec for Item recommendation:\n",
    "\n",
    "\n",
    "> Skip-gram with negative sampling, a popular variant of Word2vec originally designed and tuned to create word embeddings for Natural Language Processing, has been used to create item embeddings with successful applications in recommendation. While these fields do not share the same type of data, neither evaluate on the same tasks, recommendation applications tend to use the same already tuned hyperparameters values, even if optimal hyperparameters values are often known to be data and task dependent. We thus investigate the marginal importance of each hyperparameter in a recommendation setting through large hyperparameter grid searches on various datasets. Results reveal that optimizing neglected hyperparameters, namely negative sampling distribution, number of epochs, subsampling parameter and window-size, significantly improves performance on a recommendation task, and can increase it by an order of magnitude. Importantly, we find that optimal hyperparameters configurations for Natural Language Processing tasks and Recommendation tasks are noticeably different. \n",
    "\n",
    "[Hyperparameters matter](https://arxiv.org/abs/1804.04212)\n",
    "\n",
    "#### It turns out that  hyperparameters are really important for this task: especially the sampling parameter.  Try and learn multiple models to see how the ns_exponent parameter modifies the results:\n"
   ]
  },
  {
   "cell_type": "code",
   "execution_count": 97,
   "metadata": {},
   "outputs": [
    {
     "name": "stderr",
     "output_type": "stream",
     "text": [
      "2021-03-10 19:54:05,625 : WARNING : consider setting layer size to a multiple of 4 for greater performance\n",
      "2021-03-10 19:54:05,627 : INFO : collecting all words and their counts\n",
      "2021-03-10 19:54:05,628 : INFO : PROGRESS: at sentence #0, processed 0 words, keeping 0 word types\n",
      "2021-03-10 19:54:05,640 : INFO : collected 9616 word types from a corpus of 97786 raw words and 610 sentences\n",
      "2021-03-10 19:54:05,641 : INFO : Loading a fresh vocabulary\n",
      "2021-03-10 19:54:05,657 : INFO : effective_min_count=0 retains 9616 unique words (100% of original 9616, drops 0)\n",
      "2021-03-10 19:54:05,658 : INFO : effective_min_count=0 leaves 97786 word corpus (100% of original 97786, drops 0)\n",
      "2021-03-10 19:54:05,692 : INFO : deleting the raw counts dictionary of 9616 items\n",
      "2021-03-10 19:54:05,693 : INFO : sample=0.001 downsamples 5 most-common words\n",
      "2021-03-10 19:54:05,694 : INFO : downsampling leaves estimated 97657 word corpus (99.9% of prior 97786)\n",
      "2021-03-10 19:54:05,718 : INFO : estimated required memory for 9616 words and 50 dimensions: 8654400 bytes\n",
      "2021-03-10 19:54:05,718 : INFO : resetting layer weights\n",
      "2021-03-10 19:54:07,797 : INFO : training model with 10 workers on 9616 vocabulary and 50 features, using sg=1 hs=0 sample=0.001 negative=15 window=3\n",
      "2021-03-10 19:54:08,136 : INFO : worker thread finished; awaiting finish of 9 more threads\n",
      "2021-03-10 19:54:08,154 : INFO : worker thread finished; awaiting finish of 8 more threads\n",
      "2021-03-10 19:54:08,155 : INFO : worker thread finished; awaiting finish of 7 more threads\n",
      "2021-03-10 19:54:08,157 : INFO : worker thread finished; awaiting finish of 6 more threads\n",
      "2021-03-10 19:54:08,162 : INFO : worker thread finished; awaiting finish of 5 more threads\n",
      "2021-03-10 19:54:08,165 : INFO : worker thread finished; awaiting finish of 4 more threads\n",
      "2021-03-10 19:54:08,166 : INFO : worker thread finished; awaiting finish of 3 more threads\n",
      "2021-03-10 19:54:08,169 : INFO : worker thread finished; awaiting finish of 2 more threads\n",
      "2021-03-10 19:54:08,172 : INFO : worker thread finished; awaiting finish of 1 more threads\n",
      "2021-03-10 19:54:08,177 : INFO : worker thread finished; awaiting finish of 0 more threads\n",
      "2021-03-10 19:54:08,178 : INFO : EPOCH - 1 : training on 97786 raw words (97648 effective words) took 0.4s, 261548 effective words/s\n",
      "2021-03-10 19:54:08,481 : INFO : worker thread finished; awaiting finish of 9 more threads\n",
      "2021-03-10 19:54:08,494 : INFO : worker thread finished; awaiting finish of 8 more threads\n",
      "2021-03-10 19:54:08,494 : INFO : worker thread finished; awaiting finish of 7 more threads\n",
      "2021-03-10 19:54:08,505 : INFO : worker thread finished; awaiting finish of 6 more threads\n",
      "2021-03-10 19:54:08,526 : INFO : worker thread finished; awaiting finish of 5 more threads\n",
      "2021-03-10 19:54:08,530 : INFO : worker thread finished; awaiting finish of 4 more threads\n",
      "2021-03-10 19:54:08,537 : INFO : worker thread finished; awaiting finish of 3 more threads\n",
      "2021-03-10 19:54:08,541 : INFO : worker thread finished; awaiting finish of 2 more threads\n",
      "2021-03-10 19:54:08,542 : INFO : worker thread finished; awaiting finish of 1 more threads\n",
      "2021-03-10 19:54:08,562 : INFO : worker thread finished; awaiting finish of 0 more threads\n",
      "2021-03-10 19:54:08,562 : INFO : EPOCH - 2 : training on 97786 raw words (97661 effective words) took 0.4s, 260161 effective words/s\n",
      "2021-03-10 19:54:08,846 : INFO : worker thread finished; awaiting finish of 9 more threads\n",
      "2021-03-10 19:54:08,850 : INFO : worker thread finished; awaiting finish of 8 more threads\n",
      "2021-03-10 19:54:08,850 : INFO : worker thread finished; awaiting finish of 7 more threads\n",
      "2021-03-10 19:54:08,869 : INFO : worker thread finished; awaiting finish of 6 more threads\n",
      "2021-03-10 19:54:08,877 : INFO : worker thread finished; awaiting finish of 5 more threads\n",
      "2021-03-10 19:54:08,886 : INFO : worker thread finished; awaiting finish of 4 more threads\n",
      "2021-03-10 19:54:08,889 : INFO : worker thread finished; awaiting finish of 3 more threads\n",
      "2021-03-10 19:54:08,905 : INFO : worker thread finished; awaiting finish of 2 more threads\n",
      "2021-03-10 19:54:08,912 : INFO : worker thread finished; awaiting finish of 1 more threads\n",
      "2021-03-10 19:54:08,918 : INFO : worker thread finished; awaiting finish of 0 more threads\n",
      "2021-03-10 19:54:08,919 : INFO : EPOCH - 3 : training on 97786 raw words (97663 effective words) took 0.4s, 278777 effective words/s\n",
      "2021-03-10 19:54:09,206 : INFO : worker thread finished; awaiting finish of 9 more threads\n",
      "2021-03-10 19:54:09,211 : INFO : worker thread finished; awaiting finish of 8 more threads\n",
      "2021-03-10 19:54:09,228 : INFO : worker thread finished; awaiting finish of 7 more threads\n",
      "2021-03-10 19:54:09,241 : INFO : worker thread finished; awaiting finish of 6 more threads\n",
      "2021-03-10 19:54:09,253 : INFO : worker thread finished; awaiting finish of 5 more threads\n",
      "2021-03-10 19:54:09,255 : INFO : worker thread finished; awaiting finish of 4 more threads\n",
      "2021-03-10 19:54:09,257 : INFO : worker thread finished; awaiting finish of 3 more threads\n",
      "2021-03-10 19:54:09,271 : INFO : worker thread finished; awaiting finish of 2 more threads\n",
      "2021-03-10 19:54:09,276 : INFO : worker thread finished; awaiting finish of 1 more threads\n",
      "2021-03-10 19:54:09,285 : INFO : worker thread finished; awaiting finish of 0 more threads\n",
      "2021-03-10 19:54:09,286 : INFO : EPOCH - 4 : training on 97786 raw words (97647 effective words) took 0.4s, 270444 effective words/s\n",
      "2021-03-10 19:54:09,578 : INFO : worker thread finished; awaiting finish of 9 more threads\n",
      "2021-03-10 19:54:09,585 : INFO : worker thread finished; awaiting finish of 8 more threads\n",
      "2021-03-10 19:54:09,588 : INFO : worker thread finished; awaiting finish of 7 more threads\n",
      "2021-03-10 19:54:09,591 : INFO : worker thread finished; awaiting finish of 6 more threads\n",
      "2021-03-10 19:54:09,599 : INFO : worker thread finished; awaiting finish of 5 more threads\n",
      "2021-03-10 19:54:09,609 : INFO : worker thread finished; awaiting finish of 4 more threads\n",
      "2021-03-10 19:54:09,612 : INFO : worker thread finished; awaiting finish of 3 more threads\n",
      "2021-03-10 19:54:09,613 : INFO : worker thread finished; awaiting finish of 2 more threads\n",
      "2021-03-10 19:54:09,618 : INFO : worker thread finished; awaiting finish of 1 more threads\n",
      "2021-03-10 19:54:09,640 : INFO : worker thread finished; awaiting finish of 0 more threads\n",
      "2021-03-10 19:54:09,640 : INFO : EPOCH - 5 : training on 97786 raw words (97660 effective words) took 0.3s, 280037 effective words/s\n",
      "2021-03-10 19:54:09,918 : INFO : worker thread finished; awaiting finish of 9 more threads\n",
      "2021-03-10 19:54:09,927 : INFO : worker thread finished; awaiting finish of 8 more threads\n",
      "2021-03-10 19:54:09,932 : INFO : worker thread finished; awaiting finish of 7 more threads\n",
      "2021-03-10 19:54:09,952 : INFO : worker thread finished; awaiting finish of 6 more threads\n",
      "2021-03-10 19:54:09,963 : INFO : worker thread finished; awaiting finish of 5 more threads\n",
      "2021-03-10 19:54:09,964 : INFO : worker thread finished; awaiting finish of 4 more threads\n",
      "2021-03-10 19:54:09,978 : INFO : worker thread finished; awaiting finish of 3 more threads\n",
      "2021-03-10 19:54:09,983 : INFO : worker thread finished; awaiting finish of 2 more threads\n",
      "2021-03-10 19:54:09,985 : INFO : worker thread finished; awaiting finish of 1 more threads\n",
      "2021-03-10 19:54:09,988 : INFO : worker thread finished; awaiting finish of 0 more threads\n",
      "2021-03-10 19:54:09,989 : INFO : EPOCH - 6 : training on 97786 raw words (97650 effective words) took 0.3s, 284696 effective words/s\n",
      "2021-03-10 19:54:10,285 : INFO : worker thread finished; awaiting finish of 9 more threads\n",
      "2021-03-10 19:54:10,285 : INFO : worker thread finished; awaiting finish of 8 more threads\n",
      "2021-03-10 19:54:10,290 : INFO : worker thread finished; awaiting finish of 7 more threads\n",
      "2021-03-10 19:54:10,304 : INFO : worker thread finished; awaiting finish of 6 more threads\n",
      "2021-03-10 19:54:10,318 : INFO : worker thread finished; awaiting finish of 5 more threads\n",
      "2021-03-10 19:54:10,319 : INFO : worker thread finished; awaiting finish of 4 more threads\n",
      "2021-03-10 19:54:10,332 : INFO : worker thread finished; awaiting finish of 3 more threads\n",
      "2021-03-10 19:54:10,340 : INFO : worker thread finished; awaiting finish of 2 more threads\n"
     ]
    },
    {
     "name": "stderr",
     "output_type": "stream",
     "text": [
      "2021-03-10 19:54:10,343 : INFO : worker thread finished; awaiting finish of 1 more threads\n",
      "2021-03-10 19:54:10,344 : INFO : worker thread finished; awaiting finish of 0 more threads\n",
      "2021-03-10 19:54:10,345 : INFO : EPOCH - 7 : training on 97786 raw words (97651 effective words) took 0.3s, 279640 effective words/s\n",
      "2021-03-10 19:54:10,638 : INFO : worker thread finished; awaiting finish of 9 more threads\n",
      "2021-03-10 19:54:10,640 : INFO : worker thread finished; awaiting finish of 8 more threads\n",
      "2021-03-10 19:54:10,643 : INFO : worker thread finished; awaiting finish of 7 more threads\n",
      "2021-03-10 19:54:10,660 : INFO : worker thread finished; awaiting finish of 6 more threads\n",
      "2021-03-10 19:54:10,667 : INFO : worker thread finished; awaiting finish of 5 more threads\n",
      "2021-03-10 19:54:10,676 : INFO : worker thread finished; awaiting finish of 4 more threads\n",
      "2021-03-10 19:54:10,687 : INFO : worker thread finished; awaiting finish of 3 more threads\n",
      "2021-03-10 19:54:10,689 : INFO : worker thread finished; awaiting finish of 2 more threads\n",
      "2021-03-10 19:54:10,695 : INFO : worker thread finished; awaiting finish of 1 more threads\n",
      "2021-03-10 19:54:10,704 : INFO : worker thread finished; awaiting finish of 0 more threads\n",
      "2021-03-10 19:54:10,705 : INFO : EPOCH - 8 : training on 97786 raw words (97662 effective words) took 0.4s, 276282 effective words/s\n",
      "2021-03-10 19:54:10,994 : INFO : worker thread finished; awaiting finish of 9 more threads\n",
      "2021-03-10 19:54:10,995 : INFO : worker thread finished; awaiting finish of 8 more threads\n",
      "2021-03-10 19:54:11,001 : INFO : worker thread finished; awaiting finish of 7 more threads\n",
      "2021-03-10 19:54:11,014 : INFO : worker thread finished; awaiting finish of 6 more threads\n",
      "2021-03-10 19:54:11,017 : INFO : worker thread finished; awaiting finish of 5 more threads\n",
      "2021-03-10 19:54:11,021 : INFO : worker thread finished; awaiting finish of 4 more threads\n",
      "2021-03-10 19:54:11,024 : INFO : worker thread finished; awaiting finish of 3 more threads\n",
      "2021-03-10 19:54:11,044 : INFO : worker thread finished; awaiting finish of 2 more threads\n",
      "2021-03-10 19:54:11,046 : INFO : worker thread finished; awaiting finish of 1 more threads\n",
      "2021-03-10 19:54:11,048 : INFO : worker thread finished; awaiting finish of 0 more threads\n",
      "2021-03-10 19:54:11,049 : INFO : EPOCH - 9 : training on 97786 raw words (97648 effective words) took 0.3s, 288455 effective words/s\n",
      "2021-03-10 19:54:11,337 : INFO : worker thread finished; awaiting finish of 9 more threads\n",
      "2021-03-10 19:54:11,341 : INFO : worker thread finished; awaiting finish of 8 more threads\n",
      "2021-03-10 19:54:11,359 : INFO : worker thread finished; awaiting finish of 7 more threads\n",
      "2021-03-10 19:54:11,365 : INFO : worker thread finished; awaiting finish of 6 more threads\n",
      "2021-03-10 19:54:11,368 : INFO : worker thread finished; awaiting finish of 5 more threads\n",
      "2021-03-10 19:54:11,372 : INFO : worker thread finished; awaiting finish of 4 more threads\n",
      "2021-03-10 19:54:11,389 : INFO : worker thread finished; awaiting finish of 3 more threads\n",
      "2021-03-10 19:54:11,390 : INFO : worker thread finished; awaiting finish of 2 more threads\n",
      "2021-03-10 19:54:11,391 : INFO : worker thread finished; awaiting finish of 1 more threads\n",
      "2021-03-10 19:54:11,396 : INFO : worker thread finished; awaiting finish of 0 more threads\n",
      "2021-03-10 19:54:11,397 : INFO : EPOCH - 10 : training on 97786 raw words (97650 effective words) took 0.3s, 285459 effective words/s\n",
      "2021-03-10 19:54:11,703 : INFO : worker thread finished; awaiting finish of 9 more threads\n",
      "2021-03-10 19:54:11,704 : INFO : worker thread finished; awaiting finish of 8 more threads\n",
      "2021-03-10 19:54:11,710 : INFO : worker thread finished; awaiting finish of 7 more threads\n",
      "2021-03-10 19:54:11,740 : INFO : worker thread finished; awaiting finish of 6 more threads\n",
      "2021-03-10 19:54:11,742 : INFO : worker thread finished; awaiting finish of 5 more threads\n",
      "2021-03-10 19:54:11,745 : INFO : worker thread finished; awaiting finish of 4 more threads\n",
      "2021-03-10 19:54:11,747 : INFO : worker thread finished; awaiting finish of 3 more threads\n",
      "2021-03-10 19:54:11,772 : INFO : worker thread finished; awaiting finish of 2 more threads\n",
      "2021-03-10 19:54:11,774 : INFO : worker thread finished; awaiting finish of 1 more threads\n",
      "2021-03-10 19:54:11,776 : INFO : worker thread finished; awaiting finish of 0 more threads\n",
      "2021-03-10 19:54:11,777 : INFO : EPOCH - 11 : training on 97786 raw words (97658 effective words) took 0.4s, 260719 effective words/s\n",
      "2021-03-10 19:54:12,072 : INFO : worker thread finished; awaiting finish of 9 more threads\n",
      "2021-03-10 19:54:12,073 : INFO : worker thread finished; awaiting finish of 8 more threads\n",
      "2021-03-10 19:54:12,077 : INFO : worker thread finished; awaiting finish of 7 more threads\n",
      "2021-03-10 19:54:12,103 : INFO : worker thread finished; awaiting finish of 6 more threads\n",
      "2021-03-10 19:54:12,106 : INFO : worker thread finished; awaiting finish of 5 more threads\n",
      "2021-03-10 19:54:12,107 : INFO : worker thread finished; awaiting finish of 4 more threads\n",
      "2021-03-10 19:54:12,124 : INFO : worker thread finished; awaiting finish of 3 more threads\n",
      "2021-03-10 19:54:12,125 : INFO : worker thread finished; awaiting finish of 2 more threads\n",
      "2021-03-10 19:54:12,136 : INFO : worker thread finished; awaiting finish of 1 more threads\n",
      "2021-03-10 19:54:12,141 : INFO : worker thread finished; awaiting finish of 0 more threads\n",
      "2021-03-10 19:54:12,142 : INFO : EPOCH - 12 : training on 97786 raw words (97658 effective words) took 0.4s, 273843 effective words/s\n",
      "2021-03-10 19:54:12,433 : INFO : worker thread finished; awaiting finish of 9 more threads\n",
      "2021-03-10 19:54:12,438 : INFO : worker thread finished; awaiting finish of 8 more threads\n",
      "2021-03-10 19:54:12,452 : INFO : worker thread finished; awaiting finish of 7 more threads\n",
      "2021-03-10 19:54:12,459 : INFO : worker thread finished; awaiting finish of 6 more threads\n",
      "2021-03-10 19:54:12,462 : INFO : worker thread finished; awaiting finish of 5 more threads\n",
      "2021-03-10 19:54:12,478 : INFO : worker thread finished; awaiting finish of 4 more threads\n",
      "2021-03-10 19:54:12,487 : INFO : worker thread finished; awaiting finish of 3 more threads\n",
      "2021-03-10 19:54:12,487 : INFO : worker thread finished; awaiting finish of 2 more threads\n",
      "2021-03-10 19:54:12,488 : INFO : worker thread finished; awaiting finish of 1 more threads\n",
      "2021-03-10 19:54:12,501 : INFO : worker thread finished; awaiting finish of 0 more threads\n",
      "2021-03-10 19:54:12,502 : INFO : EPOCH - 13 : training on 97786 raw words (97637 effective words) took 0.4s, 275812 effective words/s\n",
      "2021-03-10 19:54:12,787 : INFO : worker thread finished; awaiting finish of 9 more threads\n",
      "2021-03-10 19:54:12,788 : INFO : worker thread finished; awaiting finish of 8 more threads\n",
      "2021-03-10 19:54:12,791 : INFO : worker thread finished; awaiting finish of 7 more threads\n",
      "2021-03-10 19:54:12,816 : INFO : worker thread finished; awaiting finish of 6 more threads\n",
      "2021-03-10 19:54:12,819 : INFO : worker thread finished; awaiting finish of 5 more threads\n",
      "2021-03-10 19:54:12,823 : INFO : worker thread finished; awaiting finish of 4 more threads\n",
      "2021-03-10 19:54:12,827 : INFO : worker thread finished; awaiting finish of 3 more threads\n",
      "2021-03-10 19:54:12,842 : INFO : worker thread finished; awaiting finish of 2 more threads\n",
      "2021-03-10 19:54:12,843 : INFO : worker thread finished; awaiting finish of 1 more threads\n",
      "2021-03-10 19:54:12,845 : INFO : worker thread finished; awaiting finish of 0 more threads\n",
      "2021-03-10 19:54:12,845 : INFO : EPOCH - 14 : training on 97786 raw words (97660 effective words) took 0.3s, 288959 effective words/s\n",
      "2021-03-10 19:54:13,131 : INFO : worker thread finished; awaiting finish of 9 more threads\n",
      "2021-03-10 19:54:13,132 : INFO : worker thread finished; awaiting finish of 8 more threads\n",
      "2021-03-10 19:54:13,133 : INFO : worker thread finished; awaiting finish of 7 more threads\n",
      "2021-03-10 19:54:13,158 : INFO : worker thread finished; awaiting finish of 6 more threads\n",
      "2021-03-10 19:54:13,159 : INFO : worker thread finished; awaiting finish of 5 more threads\n",
      "2021-03-10 19:54:13,163 : INFO : worker thread finished; awaiting finish of 4 more threads\n",
      "2021-03-10 19:54:13,168 : INFO : worker thread finished; awaiting finish of 3 more threads\n"
     ]
    },
    {
     "name": "stderr",
     "output_type": "stream",
     "text": [
      "2021-03-10 19:54:13,180 : INFO : worker thread finished; awaiting finish of 2 more threads\n",
      "2021-03-10 19:54:13,186 : INFO : worker thread finished; awaiting finish of 1 more threads\n",
      "2021-03-10 19:54:13,187 : INFO : worker thread finished; awaiting finish of 0 more threads\n",
      "2021-03-10 19:54:13,187 : INFO : EPOCH - 15 : training on 97786 raw words (97655 effective words) took 0.3s, 289623 effective words/s\n",
      "2021-03-10 19:54:13,472 : INFO : worker thread finished; awaiting finish of 9 more threads\n",
      "2021-03-10 19:54:13,473 : INFO : worker thread finished; awaiting finish of 8 more threads\n",
      "2021-03-10 19:54:13,493 : INFO : worker thread finished; awaiting finish of 7 more threads\n",
      "2021-03-10 19:54:13,496 : INFO : worker thread finished; awaiting finish of 6 more threads\n",
      "2021-03-10 19:54:13,506 : INFO : worker thread finished; awaiting finish of 5 more threads\n",
      "2021-03-10 19:54:13,516 : INFO : worker thread finished; awaiting finish of 4 more threads\n",
      "2021-03-10 19:54:13,518 : INFO : worker thread finished; awaiting finish of 3 more threads\n",
      "2021-03-10 19:54:13,523 : INFO : worker thread finished; awaiting finish of 2 more threads\n",
      "2021-03-10 19:54:13,524 : INFO : worker thread finished; awaiting finish of 1 more threads\n",
      "2021-03-10 19:54:13,535 : INFO : worker thread finished; awaiting finish of 0 more threads\n",
      "2021-03-10 19:54:13,536 : INFO : EPOCH - 16 : training on 97786 raw words (97649 effective words) took 0.3s, 284903 effective words/s\n",
      "2021-03-10 19:54:13,815 : INFO : worker thread finished; awaiting finish of 9 more threads\n",
      "2021-03-10 19:54:13,819 : INFO : worker thread finished; awaiting finish of 8 more threads\n",
      "2021-03-10 19:54:13,821 : INFO : worker thread finished; awaiting finish of 7 more threads\n",
      "2021-03-10 19:54:13,845 : INFO : worker thread finished; awaiting finish of 6 more threads\n",
      "2021-03-10 19:54:13,847 : INFO : worker thread finished; awaiting finish of 5 more threads\n",
      "2021-03-10 19:54:13,848 : INFO : worker thread finished; awaiting finish of 4 more threads\n",
      "2021-03-10 19:54:13,853 : INFO : worker thread finished; awaiting finish of 3 more threads\n",
      "2021-03-10 19:54:13,868 : INFO : worker thread finished; awaiting finish of 2 more threads\n",
      "2021-03-10 19:54:13,870 : INFO : worker thread finished; awaiting finish of 1 more threads\n",
      "2021-03-10 19:54:13,872 : INFO : worker thread finished; awaiting finish of 0 more threads\n",
      "2021-03-10 19:54:13,873 : INFO : EPOCH - 17 : training on 97786 raw words (97644 effective words) took 0.3s, 294188 effective words/s\n",
      "2021-03-10 19:54:14,160 : INFO : worker thread finished; awaiting finish of 9 more threads\n",
      "2021-03-10 19:54:14,165 : INFO : worker thread finished; awaiting finish of 8 more threads\n",
      "2021-03-10 19:54:14,170 : INFO : worker thread finished; awaiting finish of 7 more threads\n",
      "2021-03-10 19:54:14,196 : INFO : worker thread finished; awaiting finish of 6 more threads\n",
      "2021-03-10 19:54:14,196 : INFO : worker thread finished; awaiting finish of 5 more threads\n",
      "2021-03-10 19:54:14,203 : INFO : worker thread finished; awaiting finish of 4 more threads\n",
      "2021-03-10 19:54:14,207 : INFO : worker thread finished; awaiting finish of 3 more threads\n",
      "2021-03-10 19:54:14,224 : INFO : worker thread finished; awaiting finish of 2 more threads\n",
      "2021-03-10 19:54:14,229 : INFO : worker thread finished; awaiting finish of 1 more threads\n",
      "2021-03-10 19:54:14,230 : INFO : worker thread finished; awaiting finish of 0 more threads\n",
      "2021-03-10 19:54:14,231 : INFO : EPOCH - 18 : training on 97786 raw words (97644 effective words) took 0.4s, 277497 effective words/s\n",
      "2021-03-10 19:54:14,571 : INFO : worker thread finished; awaiting finish of 9 more threads\n",
      "2021-03-10 19:54:14,581 : INFO : worker thread finished; awaiting finish of 8 more threads\n",
      "2021-03-10 19:54:14,589 : INFO : worker thread finished; awaiting finish of 7 more threads\n",
      "2021-03-10 19:54:14,590 : INFO : worker thread finished; awaiting finish of 6 more threads\n",
      "2021-03-10 19:54:14,599 : INFO : worker thread finished; awaiting finish of 5 more threads\n",
      "2021-03-10 19:54:14,611 : INFO : worker thread finished; awaiting finish of 4 more threads\n",
      "2021-03-10 19:54:14,614 : INFO : worker thread finished; awaiting finish of 3 more threads\n",
      "2021-03-10 19:54:14,616 : INFO : worker thread finished; awaiting finish of 2 more threads\n",
      "2021-03-10 19:54:14,628 : INFO : worker thread finished; awaiting finish of 1 more threads\n",
      "2021-03-10 19:54:14,651 : INFO : worker thread finished; awaiting finish of 0 more threads\n",
      "2021-03-10 19:54:14,652 : INFO : EPOCH - 19 : training on 97786 raw words (97662 effective words) took 0.4s, 239781 effective words/s\n",
      "2021-03-10 19:54:14,977 : INFO : worker thread finished; awaiting finish of 9 more threads\n",
      "2021-03-10 19:54:14,999 : INFO : worker thread finished; awaiting finish of 8 more threads\n",
      "2021-03-10 19:54:15,006 : INFO : worker thread finished; awaiting finish of 7 more threads\n",
      "2021-03-10 19:54:15,009 : INFO : worker thread finished; awaiting finish of 6 more threads\n",
      "2021-03-10 19:54:15,020 : INFO : worker thread finished; awaiting finish of 5 more threads\n",
      "2021-03-10 19:54:15,027 : INFO : worker thread finished; awaiting finish of 4 more threads\n",
      "2021-03-10 19:54:15,037 : INFO : worker thread finished; awaiting finish of 3 more threads\n",
      "2021-03-10 19:54:15,038 : INFO : worker thread finished; awaiting finish of 2 more threads\n",
      "2021-03-10 19:54:15,058 : INFO : worker thread finished; awaiting finish of 1 more threads\n",
      "2021-03-10 19:54:15,061 : INFO : worker thread finished; awaiting finish of 0 more threads\n",
      "2021-03-10 19:54:15,061 : INFO : EPOCH - 20 : training on 97786 raw words (97666 effective words) took 0.4s, 242616 effective words/s\n",
      "2021-03-10 19:54:15,364 : INFO : worker thread finished; awaiting finish of 9 more threads\n",
      "2021-03-10 19:54:15,365 : INFO : worker thread finished; awaiting finish of 8 more threads\n",
      "2021-03-10 19:54:15,366 : INFO : worker thread finished; awaiting finish of 7 more threads\n",
      "2021-03-10 19:54:15,386 : INFO : worker thread finished; awaiting finish of 6 more threads\n",
      "2021-03-10 19:54:15,390 : INFO : worker thread finished; awaiting finish of 5 more threads\n",
      "2021-03-10 19:54:15,392 : INFO : worker thread finished; awaiting finish of 4 more threads\n",
      "2021-03-10 19:54:15,393 : INFO : worker thread finished; awaiting finish of 3 more threads\n",
      "2021-03-10 19:54:15,411 : INFO : worker thread finished; awaiting finish of 2 more threads\n",
      "2021-03-10 19:54:15,414 : INFO : worker thread finished; awaiting finish of 1 more threads\n",
      "2021-03-10 19:54:15,423 : INFO : worker thread finished; awaiting finish of 0 more threads\n",
      "2021-03-10 19:54:15,424 : INFO : EPOCH - 21 : training on 97786 raw words (97639 effective words) took 0.4s, 274977 effective words/s\n",
      "2021-03-10 19:54:15,746 : INFO : worker thread finished; awaiting finish of 9 more threads\n",
      "2021-03-10 19:54:15,747 : INFO : worker thread finished; awaiting finish of 8 more threads\n",
      "2021-03-10 19:54:15,748 : INFO : worker thread finished; awaiting finish of 7 more threads\n",
      "2021-03-10 19:54:15,756 : INFO : worker thread finished; awaiting finish of 6 more threads\n",
      "2021-03-10 19:54:15,773 : INFO : worker thread finished; awaiting finish of 5 more threads\n",
      "2021-03-10 19:54:15,774 : INFO : worker thread finished; awaiting finish of 4 more threads\n",
      "2021-03-10 19:54:15,792 : INFO : worker thread finished; awaiting finish of 3 more threads\n",
      "2021-03-10 19:54:15,801 : INFO : worker thread finished; awaiting finish of 2 more threads\n",
      "2021-03-10 19:54:15,811 : INFO : worker thread finished; awaiting finish of 1 more threads\n",
      "2021-03-10 19:54:15,813 : INFO : worker thread finished; awaiting finish of 0 more threads\n",
      "2021-03-10 19:54:15,813 : INFO : EPOCH - 22 : training on 97786 raw words (97679 effective words) took 0.4s, 256014 effective words/s\n",
      "2021-03-10 19:54:16,114 : INFO : worker thread finished; awaiting finish of 9 more threads\n",
      "2021-03-10 19:54:16,124 : INFO : worker thread finished; awaiting finish of 8 more threads\n",
      "2021-03-10 19:54:16,124 : INFO : worker thread finished; awaiting finish of 7 more threads\n",
      "2021-03-10 19:54:16,136 : INFO : worker thread finished; awaiting finish of 6 more threads\n",
      "2021-03-10 19:54:16,142 : INFO : worker thread finished; awaiting finish of 5 more threads\n",
      "2021-03-10 19:54:16,149 : INFO : worker thread finished; awaiting finish of 4 more threads\n"
     ]
    },
    {
     "name": "stderr",
     "output_type": "stream",
     "text": [
      "2021-03-10 19:54:16,151 : INFO : worker thread finished; awaiting finish of 3 more threads\n",
      "2021-03-10 19:54:16,164 : INFO : worker thread finished; awaiting finish of 2 more threads\n",
      "2021-03-10 19:54:16,169 : INFO : worker thread finished; awaiting finish of 1 more threads\n",
      "2021-03-10 19:54:16,171 : INFO : worker thread finished; awaiting finish of 0 more threads\n",
      "2021-03-10 19:54:16,172 : INFO : EPOCH - 23 : training on 97786 raw words (97639 effective words) took 0.4s, 276668 effective words/s\n",
      "2021-03-10 19:54:16,464 : INFO : worker thread finished; awaiting finish of 9 more threads\n",
      "2021-03-10 19:54:16,476 : INFO : worker thread finished; awaiting finish of 8 more threads\n",
      "2021-03-10 19:54:16,481 : INFO : worker thread finished; awaiting finish of 7 more threads\n",
      "2021-03-10 19:54:16,499 : INFO : worker thread finished; awaiting finish of 6 more threads\n",
      "2021-03-10 19:54:16,510 : INFO : worker thread finished; awaiting finish of 5 more threads\n",
      "2021-03-10 19:54:16,511 : INFO : worker thread finished; awaiting finish of 4 more threads\n",
      "2021-03-10 19:54:16,515 : INFO : worker thread finished; awaiting finish of 3 more threads\n",
      "2021-03-10 19:54:16,528 : INFO : worker thread finished; awaiting finish of 2 more threads\n",
      "2021-03-10 19:54:16,536 : INFO : worker thread finished; awaiting finish of 1 more threads\n",
      "2021-03-10 19:54:16,537 : INFO : worker thread finished; awaiting finish of 0 more threads\n",
      "2021-03-10 19:54:16,538 : INFO : EPOCH - 24 : training on 97786 raw words (97660 effective words) took 0.4s, 271915 effective words/s\n",
      "2021-03-10 19:54:16,867 : INFO : worker thread finished; awaiting finish of 9 more threads\n",
      "2021-03-10 19:54:16,868 : INFO : worker thread finished; awaiting finish of 8 more threads\n",
      "2021-03-10 19:54:16,868 : INFO : worker thread finished; awaiting finish of 7 more threads\n",
      "2021-03-10 19:54:16,893 : INFO : worker thread finished; awaiting finish of 6 more threads\n",
      "2021-03-10 19:54:16,901 : INFO : worker thread finished; awaiting finish of 5 more threads\n",
      "2021-03-10 19:54:16,907 : INFO : worker thread finished; awaiting finish of 4 more threads\n",
      "2021-03-10 19:54:16,918 : INFO : worker thread finished; awaiting finish of 3 more threads\n",
      "2021-03-10 19:54:16,927 : INFO : worker thread finished; awaiting finish of 2 more threads\n",
      "2021-03-10 19:54:16,928 : INFO : worker thread finished; awaiting finish of 1 more threads\n",
      "2021-03-10 19:54:16,931 : INFO : worker thread finished; awaiting finish of 0 more threads\n",
      "2021-03-10 19:54:16,932 : INFO : EPOCH - 25 : training on 97786 raw words (97656 effective words) took 0.4s, 252490 effective words/s\n",
      "2021-03-10 19:54:16,932 : INFO : training on a 2444650 raw words (2441346 effective words) took 9.1s, 267260 effective words/s\n"
     ]
    }
   ],
   "source": [
    "# the following configuration is the default configuration\n",
    "w2v = gensim.models.word2vec.Word2Vec(sentences=train_seq_str,\n",
    "                                size=50, window=3,               ### here we train a cbow model \n",
    "                                min_count=0,                      \n",
    "                                sample=0.001, ns_exponent=-0.4, workers=10,\n",
    "                                sg=1, hs=0, negative=15,          ### set sg to 1 to train a sg model => Prod2Vec\n",
    "                                cbow_mean=0,\n",
    "                                iter=25)\n",
    "\n"
   ]
  },
  {
   "cell_type": "code",
   "execution_count": 98,
   "metadata": {},
   "outputs": [
    {
     "name": "stderr",
     "output_type": "stream",
     "text": [
      "2021-03-10 19:54:20,193 : INFO : precomputing L2-norms of word weight vectors\n"
     ]
    }
   ],
   "source": [
    "pop_preds = get_predictions(predict_pop,last_consumed_item,test_seq,-1)\n",
    "w2v_preds = get_predictions(predict_w2v,last_consumed_item,test_seq,-1)"
   ]
  },
  {
   "cell_type": "code",
   "execution_count": 99,
   "metadata": {},
   "outputs": [
    {
     "name": "stdout",
     "output_type": "stream",
     "text": [
      "17.869504596139933\n",
      "18.00438865481019\n",
      "0.051054704276776476\n",
      "0.06031670552534219\n",
      "0.017315723982695274\n",
      "0.020588149559852255\n"
     ]
    }
   ],
   "source": [
    "print(1/mrr(pop_preds))\n",
    "print(1/mrr(w2v_preds))\n",
    "\n",
    "print(mean_dcg(pop_preds,5))\n",
    "print(mean_dcg(w2v_preds,5))\n",
    "\n",
    "print(mean_ndcg(pop_preds,5))\n",
    "print(mean_ndcg(w2v_preds,5))"
   ]
  },
  {
   "cell_type": "markdown",
   "metadata": {},
   "source": [
    "## Still got time ? Try making a more clever item selection mechanism:\n",
    "\n",
    "- You could, for example, cluster items in groups (using k-means) and propose the most popular items of the last seen group"
   ]
  }
 ],
 "metadata": {
  "kernelspec": {
   "display_name": "Python 3",
   "language": "python",
   "name": "python3"
  },
  "language_info": {
   "codemirror_mode": {
    "name": "ipython",
    "version": 3
   },
   "file_extension": ".py",
   "mimetype": "text/x-python",
   "name": "python",
   "nbconvert_exporter": "python",
   "pygments_lexer": "ipython3",
   "version": "3.7.9"
  }
 },
 "nbformat": 4,
 "nbformat_minor": 2
}
